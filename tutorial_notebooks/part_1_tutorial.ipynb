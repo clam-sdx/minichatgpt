{
 "cells": [
  {
   "cell_type": "markdown",
   "id": "3abf55c6",
   "metadata": {},
   "source": [
    "# Mini-ChatGPT\n",
    "\n",
    "This tutorial assumes the reader has some basic machine learning (ML) knowledge, natural language processing (NLP) knowledge and familiarity with transformer neural network large language models, but is new to using reinforcement learning. If you know what a loss aka cost aka objective function is and how a token aka input_id represents a vector aka embedding, you should be in good shape.\n",
    "\n",
    "If not, here is a really great place to start  https://lena-voita.github.io/nlp_course/language_modeling.html \n",
    "\n",
    "Special thanks to Leandro von Werra 's https://github.com/lvwerra/trl repo\n",
    "\n",
    "diagram from https://openai.com/blog/chatgpt/ ChatGPT is an improved InstructGPT \n",
    "\n",
    "<img src='https://cdn.openai.com/chatgpt/draft-20221129c/ChatGPT_Diagram.svg' height=600 width=800>\n",
    "\n",
    "#### Figure 1\n",
    "\n",
    "### Step 1\n",
    "\n",
    "Supervised Fine-Tuning (SFT) is the process of taking a model already pre-trained on a very large corpus of data, and re-training it carefully as not to erase the knowledge the model has gained from that pre-training [catastropic forgetting](https://github.com/clam004/intro_continual_learning), but rather slightly nudge the model to perform better in a more specific or narrow domain represented by a much smaller fine tuning dataset.\n",
    "\n",
    "There are already plenty of resources on Supervised Fine-Tuning (SFT) aka fine-tuning already, some with impressively good explanations, mistakenly claiming to help you build a mini-chatgpt. I will not cover SFT, instead I will point you to some of my favorite resources. \n",
    "\n",
    "Here is an explanatory video by Huggingface of the Decoder, or autoregressive, transformers like GPT: https://youtu.be/d_ixlCubqQw\n",
    "\n",
    "Here is a great blog explaining language modeling and the cross entropy loss function https://lena-voita.github.io/nlp_course/language_modeling.html , I would start here if you have done ML but not deep learning for NLP before. \n",
    "\n",
    "Fine-tuning GPT-like models: https://huggingface.co/course/chapter7/6?fw=pt and [Guide to fine-tuning Text Generation models: GPT-2, GPT-Neo and T5](https://towardsdatascience.com/guide-to-fine-tuning-text-generation-models-gpt-2-gpt-neo-and-t5-dc5de6b3bc5e)\n",
    "\n",
    "ChatGPT likely was fine-tuned on a dataset of instructions and examples of following to\n",
    " \n",
    "### Step 2\n",
    "\n",
    "Fine-tuning usually means training for only a small number of epochs with a much smaller learning rate, but also using the cross entropy loss function used to do pre-training, but this way to learning is abit limited, can you tell why? \n",
    "\n",
    "<img src=\"https://lena-voita.github.io/resources/lectures/lang_models/neural/one_step_loss_intuition-min.png\" height=500 width=700>\n",
    "\n",
    "#### Figure 2\n",
    "\n",
    "This example of using cross entropy shows how the training algorithm rewards or penalizes based on how large the logit (probability mass asigned to) for \"cat\" is, just this one way of completing the sequence, but we know that in reality when generating responses to instructions, there isnt one right ways to do it even in the cases when there is one right answer, there are many ways to be good and many ways to be bad. \n",
    "\n",
    "For the sake of keeping this tutorial light weight, fit on commonly available compute and intuitive, we have simplified the overall strategy in 2 major ways:\n",
    "\n",
    "A. ChatGPT and InstructGPT, although they are very specially trained with reinforcement learning (RL), when you generalize, ChatGPT is just taking some prompt, aka input text (the phrase or instructions) and generating an output, aka continuing that text (providing a response or answer). It takes alot more compute memory to represent these long instructions and long answers in the neural network transformers, so instead we simplify the input text to the start of a movie review (first few words or subwords) and simplify the continuing text to the continuation of those first few words.\n",
    "\n",
    "B. The reward modeling has been simplified as compared to InstructGPT https://openai.com/blog/instruction-following/ which is the model that ChatGPT is a scaled up and improved version of. \n",
    "\n",
    "Instead of training a reward model based on human rankings of output text, which was done to make the reward signal more stable or reliable, we use the more direct tactic of using the logits from a classifier (like BERT) as the reward signal, \"positive meanss do more like this, negative means do less like this\", where positive means the review is a referring to movie the reviewer thinks is good (a positive review). \n",
    "\n",
    "### Step 3\n",
    "\n",
    "Given our limited time, I am going to focus on giving you what is hard to find. That is, good explainations of the parts that are usually glossed over yet important, or those parts that are usually explained in a much more jargony, field specific, technical or mathematical manner.\n",
    "\n",
    "That means we will be focusing on step 3 in Figure 1. Namely, how reinforcement learning, something we have seen thus far in the popular media mostly applied to computer games, instead applied to natural language, or the generation of sequences of discrete tokens. "
   ]
  },
  {
   "cell_type": "code",
   "execution_count": 1,
   "id": "2eb6d755",
   "metadata": {},
   "outputs": [],
   "source": [
    "%load_ext autoreload\n",
    "%autoreload 2"
   ]
  },
  {
   "cell_type": "code",
   "execution_count": 4,
   "id": "f2172f46",
   "metadata": {},
   "outputs": [],
   "source": [
    "import numpy as np\n",
    "import torch\n",
    "\n",
    "from matplotlib import pyplot as plt \n",
    "\n",
    "from minichatgpt.experiments.imdb import config, sent_kwargs\n",
    "from minichatgpt import Lab, PPOConfig\n",
    "from minichatgpt.processdata.collators import imdb_dataloader_collator"
   ]
  },
  {
   "cell_type": "code",
   "execution_count": 6,
   "id": "15656d4c",
   "metadata": {},
   "outputs": [
    {
     "name": "stdout",
     "output_type": "stream",
     "text": [
      "number of GPUs: 2\n",
      "config.batch_size 4\n",
      "config.forward_batch_size 1\n"
     ]
    }
   ],
   "source": [
    "# The notebook should work even without GPUs, but if you have them, confirm you do\n",
    "print ('number of GPUs:', torch.cuda.device_count())\n",
    "\n",
    "# For the sake of the speed of this demonstration, the batch_size is temporarily decreased from 256 to 4\n",
    "batch_size = 4\n",
    "config.batch_size = batch_size\n",
    "config.forward_batch_size = max(batch_size//8,1)\n",
    "\n",
    "print('config.batch_size', config.batch_size)\n",
    "print('config.forward_batch_size', config.forward_batch_size)"
   ]
  },
  {
   "cell_type": "code",
   "execution_count": 7,
   "id": "5c31006e",
   "metadata": {},
   "outputs": [
    {
     "name": "stderr",
     "output_type": "stream",
     "text": [
      "Found cached dataset imdb (/home/carson/.cache/huggingface/datasets/imdb/plain_text/1.0.0/d613c88cf8fa3bab83b4ded3713f1f74830d1100e171db75bbddb80b3345c9c0)\n",
      "Loading cached processed dataset at /home/carson/.cache/huggingface/datasets/imdb/plain_text/1.0.0/d613c88cf8fa3bab83b4ded3713f1f74830d1100e171db75bbddb80b3345c9c0/cache-a680d0720b68191d.arrow\n",
      "Loading cached processed dataset at /home/carson/.cache/huggingface/datasets/imdb/plain_text/1.0.0/d613c88cf8fa3bab83b4ded3713f1f74830d1100e171db75bbddb80b3345c9c0/cache-ec21da66149d9ccd.arrow\n"
     ]
    }
   ],
   "source": [
    "lab = Lab(config)\n",
    "\n",
    "dataset = lab.build_dataset(\n",
    "    dataset_name=\"imdb\",\n",
    "    input_min_text_length=2,\n",
    "    input_max_text_length=8,\n",
    ")\n",
    "\n",
    "new_policy, old_policy, tokenizer = lab.init_policies_tokenizer()\n",
    "\n",
    "lab.set_generation_config(\n",
    "    do_sample=True,\n",
    "    output_min_length=4,\n",
    "    output_max_length=16,\n",
    "    pad_token_id=tokenizer.eos_token_id,\n",
    ")\n",
    "\n",
    "ppo_trainer = lab.init_ppo_trainer(\n",
    "    config, \n",
    "    new_policy, \n",
    "    old_policy, \n",
    "    tokenizer, \n",
    "    dataset, \n",
    "    dataloader_collator = imdb_dataloader_collator,\n",
    ")\n",
    "\n",
    "reward_model = lab.init_reward_model()"
   ]
  },
  {
   "cell_type": "markdown",
   "id": "cb6e523d",
   "metadata": {},
   "source": [
    "#### A new prompt is sampled from the dataset\n",
    "\n",
    "In the cells below, samples of sentence text are represented by sequences integer token IDs in input_ids, and each token is either a word or a subword. Roughly speaking the average token represents a word or subword that is around 3 characters long: 'can', 'ed', 'con', 'tion' etc. Because of the code `input_min_text_length=2, input_max_text_length=8` above in `dataset = lab.build_dataset()`, you will find a random assortment of sample lengths in each batch, but they will be no less than 2 tokens short and no more than 8 tokens long. \n",
    "\n",
    "In reinforcement learning the agent acts in an environment, like a computer game, and takes actions, like hiting the jump button or moving to the left, which in the future may result in more or less reward, like points in a game. Here the environment is the random assortment of samples that the model can continue in many ways. The action here is how the model chooses to continue those samples, aka prompts."
   ]
  },
  {
   "cell_type": "code",
   "execution_count": 8,
   "id": "e6b03293",
   "metadata": {},
   "outputs": [
    {
     "name": "stdout",
     "output_type": "stream",
     "text": [
      "the part of each batch are:  dict_keys(['label', 'input_ids', 'query'])\n",
      "--------------------------------------------------\n",
      "each batch has  4 samples\n",
      "--------------------------------------------------\n",
      "here are some samples examples  ['I remember watching \"G', 'I couldn', 'A suspenseful thriller that', 'I like musical']\n",
      "--------------------------------------------------\n",
      "here are the token ids of those examples  [tensor([  40, 3505, 4964,  366,   38], device='cuda:0'), tensor([  40, 3521], device='cuda:0'), tensor([   32, 43527,   913, 32251,   326], device='cuda:0'), tensor([   40,   588, 10530], device='cuda:0')]\n"
     ]
    }
   ],
   "source": [
    "for batch_step, batch in enumerate(ppo_trainer.dataloader):\n",
    "    \n",
    "    queries = batch['input_ids']\n",
    "    \n",
    "    break\n",
    "    \n",
    "print('the part of each batch are: ', batch.keys())\n",
    "print('-'*50)\n",
    "print('each batch has ', len(batch['query']), 'samples')\n",
    "print('-'*50)\n",
    "print('here are some samples examples ', batch['query'])\n",
    "print('-'*50)\n",
    "print('here are the token ids of those examples ', batch['input_ids'])"
   ]
  },
  {
   "cell_type": "markdown",
   "id": "e01aa2ad",
   "metadata": {},
   "source": [
    "#### The policy generates an output\n",
    "\n",
    "run the next 2 cells several times, notice that the initial query (the prompt) stays the same, but the predicted actions (the text continuation) keeps changing, thats because in our generation keyword arguments we have `do_sample=True`"
   ]
  },
  {
   "cell_type": "code",
   "execution_count": 9,
   "id": "548b249b",
   "metadata": {},
   "outputs": [
    {
     "data": {
      "text/plain": [
       "[tensor([27725,   286,   968,  1971,     1,   379,   257,  2318,    11],\n",
       "        device='cuda:0'),\n",
       " tensor([ 470, 1650,  832,  428], device='cuda:0'),\n",
       " tensor([ 7622,   345,   422, 12598,   262, 15413,  1605], device='cuda:0'),\n",
       " tensor([ 6918,   828,   290,   314,  1549,   587,  2045,   329,  1194, 18304,\n",
       "            13, 28796,  1106,  3941, 21429], device='cuda:0')]"
      ]
     },
     "execution_count": 9,
     "metadata": {},
     "output_type": "execute_result"
    }
   ],
   "source": [
    "#### Get response from gpt2\n",
    "responses = []\n",
    "for query in queries:\n",
    "    gen_len = lab.output_length_sampler()\n",
    "    lab.generation_kwargs[\"max_new_tokens\"] = gen_len\n",
    "    response = ppo_trainer.generate(query, **lab.generation_kwargs)\n",
    "    responses.append(response.squeeze()[-gen_len:])\n",
    "    \n",
    "responses"
   ]
  },
  {
   "cell_type": "code",
   "execution_count": 10,
   "id": "0bb90d88",
   "metadata": {},
   "outputs": [
    {
     "data": {
      "text/plain": [
       "['I remember watching \"G >>> angs of New York\" at a bar,',\n",
       " \"I couldn >>> 't sit through this\",\n",
       " 'A suspenseful thriller that >>>  keeps you from accepting the garbage American',\n",
       " \"I like musical >>>  movies), and I'd been looking for another angel. wow.... Bill Pull\"]"
      ]
     },
     "execution_count": 10,
     "metadata": {},
     "output_type": "execute_result"
    }
   ],
   "source": [
    "batch['response'] = [tokenizer.decode(r.squeeze()) for r in responses]\n",
    "concat_text = [batch['query'][i]+\" >>> \"+batch['response'][i] for i in range(len(batch['response']))]\n",
    "concat_text"
   ]
  },
  {
   "cell_type": "markdown",
   "id": "3d8c4370",
   "metadata": {},
   "source": [
    "I used `>>>` to separate the prompt, left side, which is sampled from the dataset from the text generated by the policy, right side."
   ]
  },
  {
   "cell_type": "markdown",
   "id": "353df331",
   "metadata": {},
   "source": [
    "#### The reward model calculates a reward for the output"
   ]
  },
  {
   "cell_type": "code",
   "execution_count": 11,
   "id": "b2b1d863",
   "metadata": {},
   "outputs": [
    {
     "name": "stderr",
     "output_type": "stream",
     "text": [
      "/home/carson/Desktop/Projects/minichatgpt/venv/lib/python3.7/site-packages/transformers/pipelines/text_classification.py:107: UserWarning: `return_all_scores` is now deprecated,  if want a similar funcionality use `top_k=None` instead of `return_all_scores=True` or `top_k=1` instead of `return_all_scores=False`.\n",
      "  UserWarning,\n"
     ]
    },
    {
     "data": {
      "text/plain": [
       "[tensor(0.9036), tensor(-2.4185), tensor(2.6272), tensor(0.2335)]"
      ]
     },
     "execution_count": 11,
     "metadata": {},
     "output_type": "execute_result"
    }
   ],
   "source": [
    "#### Compute sentiment score\n",
    "texts = [q + r for q,r in zip(batch['query'], batch['response'])]\n",
    "pipe_outputs = lab.reward_model(texts, **sent_kwargs)\n",
    "rewards = [torch.tensor(output[1][\"score\"]) for output in pipe_outputs]\n",
    "\n",
    "rewards"
   ]
  },
  {
   "cell_type": "markdown",
   "id": "ecf2a789",
   "metadata": {},
   "source": [
    "#### The reward is used to update the policy using PPO\n",
    "\n",
    "PPO means proximal policy optimization. They are the reinforcement learning steps and they are all done by calling `stats = ppo_trainer.step(query_tensors, response_tensors, rewards)` in fact the entire Step 3 training loop is:\n",
    "\n",
    "```python\n",
    "\n",
    "for batch_step, batch in tqdm(enumerate(ppo_trainer.dataloader)):\n",
    "    \n",
    "    queries = batch['input_ids']\n",
    "    \n",
    "    #### Get response from gpt2\n",
    "    responses = []\n",
    "    for query in queries:\n",
    "        gen_len = lab.output_length_sampler()\n",
    "        lab.generation_kwargs[\"max_new_tokens\"] = gen_len\n",
    "        response = ppo_trainer.generate(query, **lab.generation_kwargs)\n",
    "        responses.append(response.squeeze()[-gen_len:])\n",
    "        \n",
    "    batch['response'] = [tokenizer.decode(r.squeeze()) for r in responses]\n",
    "    \n",
    "    #### Compute sentiment score\n",
    "    texts = [q + r for q,r in zip(batch['query'], batch['response'])]\n",
    "    pipe_outputs = lab.reward_model(texts, **sent_kwargs)\n",
    "    rewards = [torch.tensor(output[1][\"score\"]) for output in pipe_outputs]\n",
    "    \n",
    "    #### Run PPO step \n",
    "    stats = ppo_trainer.step(queries, responses, rewards)\n",
    "    ppo_trainer.log_stats(stats, batch, rewards)\n",
    "\n",
    "```\n",
    "\n",
    "But Im here to learn the details, so we will go through PPO as it applies to sequences of discrete tokens, step by step."
   ]
  },
  {
   "cell_type": "code",
   "execution_count": 12,
   "id": "024454d8",
   "metadata": {},
   "outputs": [],
   "source": [
    "# check to make sure that each queries, responses and rewards is a list of tensors\n",
    "queries, responses, scores = ppo_trainer._step_safety_checker(batch_size, queries, responses, rewards)"
   ]
  },
  {
   "cell_type": "markdown",
   "id": "c95bbf4a",
   "metadata": {},
   "source": [
    "#### Policy model architecture \n",
    "\n",
    "To be clear on what happens next I find it helpful to remind myself of some of these details about our policy model. First, the policy is a causal language model with an added value head. We will talk about what the value head is later. \n",
    "\n",
    "```python\n",
    "\n",
    "lab.init_policies_tokenizer()\n",
    "\n",
    "    self.new_policy = AutoModelForCausalLMWithValueHead.from_pretrained(model_name)\n",
    "\n",
    "```\n",
    "\n",
    "There are already so many great lessons on the internet about the architectures of transformers, here is a great place to start https://jalammar.github.io/illustrated-gpt2/ so I am not going to explain them here before making reference to them.  \n",
    "\n",
    "The GPT like models are repeating blocks that pass their hidden state to the next block. The final or last hidden state (aka activations) is used as the input to the language model head (lm_head) and the value head (v_head).\n",
    "\n",
    "simply run `new_policy` in the next cell to see for yourself"
   ]
  },
  {
   "cell_type": "code",
   "execution_count": 13,
   "id": "7d12af14",
   "metadata": {},
   "outputs": [
    {
     "data": {
      "text/plain": [
       "AutoModelForCausalLMWithValueHead(\n",
       "  (pretrained_model): GPT2LMHeadModel(\n",
       "    (transformer): GPT2Model(\n",
       "      (wte): Embedding(50257, 768)\n",
       "      (wpe): Embedding(1024, 768)\n",
       "      (drop): Dropout(p=0.1, inplace=False)\n",
       "      (h): ModuleList(\n",
       "        (0): GPT2Block(\n",
       "          (ln_1): LayerNorm((768,), eps=1e-05, elementwise_affine=True)\n",
       "          (attn): GPT2Attention(\n",
       "            (c_attn): Conv1D()\n",
       "            (c_proj): Conv1D()\n",
       "            (attn_dropout): Dropout(p=0.1, inplace=False)\n",
       "            (resid_dropout): Dropout(p=0.1, inplace=False)\n",
       "          )\n",
       "          (ln_2): LayerNorm((768,), eps=1e-05, elementwise_affine=True)\n",
       "          (mlp): GPT2MLP(\n",
       "            (c_fc): Conv1D()\n",
       "            (c_proj): Conv1D()\n",
       "            (act): NewGELUActivation()\n",
       "            (dropout): Dropout(p=0.1, inplace=False)\n",
       "          )\n",
       "        )\n",
       "        (1): GPT2Block(\n",
       "          (ln_1): LayerNorm((768,), eps=1e-05, elementwise_affine=True)\n",
       "          (attn): GPT2Attention(\n",
       "            (c_attn): Conv1D()\n",
       "            (c_proj): Conv1D()\n",
       "            (attn_dropout): Dropout(p=0.1, inplace=False)\n",
       "            (resid_dropout): Dropout(p=0.1, inplace=False)\n",
       "          )\n",
       "          (ln_2): LayerNorm((768,), eps=1e-05, elementwise_affine=True)\n",
       "          (mlp): GPT2MLP(\n",
       "            (c_fc): Conv1D()\n",
       "            (c_proj): Conv1D()\n",
       "            (act): NewGELUActivation()\n",
       "            (dropout): Dropout(p=0.1, inplace=False)\n",
       "          )\n",
       "        )\n",
       "        (2): GPT2Block(\n",
       "          (ln_1): LayerNorm((768,), eps=1e-05, elementwise_affine=True)\n",
       "          (attn): GPT2Attention(\n",
       "            (c_attn): Conv1D()\n",
       "            (c_proj): Conv1D()\n",
       "            (attn_dropout): Dropout(p=0.1, inplace=False)\n",
       "            (resid_dropout): Dropout(p=0.1, inplace=False)\n",
       "          )\n",
       "          (ln_2): LayerNorm((768,), eps=1e-05, elementwise_affine=True)\n",
       "          (mlp): GPT2MLP(\n",
       "            (c_fc): Conv1D()\n",
       "            (c_proj): Conv1D()\n",
       "            (act): NewGELUActivation()\n",
       "            (dropout): Dropout(p=0.1, inplace=False)\n",
       "          )\n",
       "        )\n",
       "        (3): GPT2Block(\n",
       "          (ln_1): LayerNorm((768,), eps=1e-05, elementwise_affine=True)\n",
       "          (attn): GPT2Attention(\n",
       "            (c_attn): Conv1D()\n",
       "            (c_proj): Conv1D()\n",
       "            (attn_dropout): Dropout(p=0.1, inplace=False)\n",
       "            (resid_dropout): Dropout(p=0.1, inplace=False)\n",
       "          )\n",
       "          (ln_2): LayerNorm((768,), eps=1e-05, elementwise_affine=True)\n",
       "          (mlp): GPT2MLP(\n",
       "            (c_fc): Conv1D()\n",
       "            (c_proj): Conv1D()\n",
       "            (act): NewGELUActivation()\n",
       "            (dropout): Dropout(p=0.1, inplace=False)\n",
       "          )\n",
       "        )\n",
       "        (4): GPT2Block(\n",
       "          (ln_1): LayerNorm((768,), eps=1e-05, elementwise_affine=True)\n",
       "          (attn): GPT2Attention(\n",
       "            (c_attn): Conv1D()\n",
       "            (c_proj): Conv1D()\n",
       "            (attn_dropout): Dropout(p=0.1, inplace=False)\n",
       "            (resid_dropout): Dropout(p=0.1, inplace=False)\n",
       "          )\n",
       "          (ln_2): LayerNorm((768,), eps=1e-05, elementwise_affine=True)\n",
       "          (mlp): GPT2MLP(\n",
       "            (c_fc): Conv1D()\n",
       "            (c_proj): Conv1D()\n",
       "            (act): NewGELUActivation()\n",
       "            (dropout): Dropout(p=0.1, inplace=False)\n",
       "          )\n",
       "        )\n",
       "        (5): GPT2Block(\n",
       "          (ln_1): LayerNorm((768,), eps=1e-05, elementwise_affine=True)\n",
       "          (attn): GPT2Attention(\n",
       "            (c_attn): Conv1D()\n",
       "            (c_proj): Conv1D()\n",
       "            (attn_dropout): Dropout(p=0.1, inplace=False)\n",
       "            (resid_dropout): Dropout(p=0.1, inplace=False)\n",
       "          )\n",
       "          (ln_2): LayerNorm((768,), eps=1e-05, elementwise_affine=True)\n",
       "          (mlp): GPT2MLP(\n",
       "            (c_fc): Conv1D()\n",
       "            (c_proj): Conv1D()\n",
       "            (act): NewGELUActivation()\n",
       "            (dropout): Dropout(p=0.1, inplace=False)\n",
       "          )\n",
       "        )\n",
       "        (6): GPT2Block(\n",
       "          (ln_1): LayerNorm((768,), eps=1e-05, elementwise_affine=True)\n",
       "          (attn): GPT2Attention(\n",
       "            (c_attn): Conv1D()\n",
       "            (c_proj): Conv1D()\n",
       "            (attn_dropout): Dropout(p=0.1, inplace=False)\n",
       "            (resid_dropout): Dropout(p=0.1, inplace=False)\n",
       "          )\n",
       "          (ln_2): LayerNorm((768,), eps=1e-05, elementwise_affine=True)\n",
       "          (mlp): GPT2MLP(\n",
       "            (c_fc): Conv1D()\n",
       "            (c_proj): Conv1D()\n",
       "            (act): NewGELUActivation()\n",
       "            (dropout): Dropout(p=0.1, inplace=False)\n",
       "          )\n",
       "        )\n",
       "        (7): GPT2Block(\n",
       "          (ln_1): LayerNorm((768,), eps=1e-05, elementwise_affine=True)\n",
       "          (attn): GPT2Attention(\n",
       "            (c_attn): Conv1D()\n",
       "            (c_proj): Conv1D()\n",
       "            (attn_dropout): Dropout(p=0.1, inplace=False)\n",
       "            (resid_dropout): Dropout(p=0.1, inplace=False)\n",
       "          )\n",
       "          (ln_2): LayerNorm((768,), eps=1e-05, elementwise_affine=True)\n",
       "          (mlp): GPT2MLP(\n",
       "            (c_fc): Conv1D()\n",
       "            (c_proj): Conv1D()\n",
       "            (act): NewGELUActivation()\n",
       "            (dropout): Dropout(p=0.1, inplace=False)\n",
       "          )\n",
       "        )\n",
       "        (8): GPT2Block(\n",
       "          (ln_1): LayerNorm((768,), eps=1e-05, elementwise_affine=True)\n",
       "          (attn): GPT2Attention(\n",
       "            (c_attn): Conv1D()\n",
       "            (c_proj): Conv1D()\n",
       "            (attn_dropout): Dropout(p=0.1, inplace=False)\n",
       "            (resid_dropout): Dropout(p=0.1, inplace=False)\n",
       "          )\n",
       "          (ln_2): LayerNorm((768,), eps=1e-05, elementwise_affine=True)\n",
       "          (mlp): GPT2MLP(\n",
       "            (c_fc): Conv1D()\n",
       "            (c_proj): Conv1D()\n",
       "            (act): NewGELUActivation()\n",
       "            (dropout): Dropout(p=0.1, inplace=False)\n",
       "          )\n",
       "        )\n",
       "        (9): GPT2Block(\n",
       "          (ln_1): LayerNorm((768,), eps=1e-05, elementwise_affine=True)\n",
       "          (attn): GPT2Attention(\n",
       "            (c_attn): Conv1D()\n",
       "            (c_proj): Conv1D()\n",
       "            (attn_dropout): Dropout(p=0.1, inplace=False)\n",
       "            (resid_dropout): Dropout(p=0.1, inplace=False)\n",
       "          )\n",
       "          (ln_2): LayerNorm((768,), eps=1e-05, elementwise_affine=True)\n",
       "          (mlp): GPT2MLP(\n",
       "            (c_fc): Conv1D()\n",
       "            (c_proj): Conv1D()\n",
       "            (act): NewGELUActivation()\n",
       "            (dropout): Dropout(p=0.1, inplace=False)\n",
       "          )\n",
       "        )\n",
       "        (10): GPT2Block(\n",
       "          (ln_1): LayerNorm((768,), eps=1e-05, elementwise_affine=True)\n",
       "          (attn): GPT2Attention(\n",
       "            (c_attn): Conv1D()\n",
       "            (c_proj): Conv1D()\n",
       "            (attn_dropout): Dropout(p=0.1, inplace=False)\n",
       "            (resid_dropout): Dropout(p=0.1, inplace=False)\n",
       "          )\n",
       "          (ln_2): LayerNorm((768,), eps=1e-05, elementwise_affine=True)\n",
       "          (mlp): GPT2MLP(\n",
       "            (c_fc): Conv1D()\n",
       "            (c_proj): Conv1D()\n",
       "            (act): NewGELUActivation()\n",
       "            (dropout): Dropout(p=0.1, inplace=False)\n",
       "          )\n",
       "        )\n",
       "        (11): GPT2Block(\n",
       "          (ln_1): LayerNorm((768,), eps=1e-05, elementwise_affine=True)\n",
       "          (attn): GPT2Attention(\n",
       "            (c_attn): Conv1D()\n",
       "            (c_proj): Conv1D()\n",
       "            (attn_dropout): Dropout(p=0.1, inplace=False)\n",
       "            (resid_dropout): Dropout(p=0.1, inplace=False)\n",
       "          )\n",
       "          (ln_2): LayerNorm((768,), eps=1e-05, elementwise_affine=True)\n",
       "          (mlp): GPT2MLP(\n",
       "            (c_fc): Conv1D()\n",
       "            (c_proj): Conv1D()\n",
       "            (act): NewGELUActivation()\n",
       "            (dropout): Dropout(p=0.1, inplace=False)\n",
       "          )\n",
       "        )\n",
       "      )\n",
       "      (ln_f): LayerNorm((768,), eps=1e-05, elementwise_affine=True)\n",
       "    )\n",
       "    (lm_head): Linear(in_features=768, out_features=50257, bias=False)\n",
       "  )\n",
       "  (v_head): ValueHead(\n",
       "    (dropout): Dropout(p=0.1, inplace=False)\n",
       "    (summary): Linear(in_features=768, out_features=1, bias=True)\n",
       "    (flatten): Flatten(start_dim=1, end_dim=-1)\n",
       "  )\n",
       ")"
      ]
     },
     "execution_count": 13,
     "metadata": {},
     "output_type": "execute_result"
    }
   ],
   "source": [
    "new_policy"
   ]
  },
  {
   "cell_type": "markdown",
   "id": "16aeef2c",
   "metadata": {},
   "source": [
    "#### Preventing new policy from moving too far from old policy \n",
    "\n",
    "Next we find the log probabilities for each token in our responses, notice that the length of each element in the logprobs matches its corresponding pair in responses. We calculate the log probabilities not because we are implementing the reinforce policy gradient loss function [Policy Gradient Theorem](https://jonathan-hui.medium.com/rl-policy-gradients-explained-9b13b688b146), but in order to calculate the [Kullback–Leibler divergence](https://machinelearningmastery.com/divergence-between-probability-distributions/) (KL divergence) between the old static policy and new dynamic policy. You see, in 2022 the current efforts in RL are still being directed to combat the high variance and sample inefficiency in training, in laymens terms, trying to keep the neural network from spining out of control, losing its mind, while being updated, part of this involves keeping track of how much the behavior of the neural network in training has drifted away from the initial behavior, we measure this drift using the KL divergence between the two models outputs. [Great blog on the KL penalty](https://www.alignmentforum.org/posts/eoHbneGvqDu25Hasc/rl-with-kl-penalties-is-better-seen-as-bayesian-inference)"
   ]
  },
  {
   "cell_type": "code",
   "execution_count": 15,
   "id": "7286b7bc",
   "metadata": {},
   "outputs": [
    {
     "name": "stderr",
     "output_type": "stream",
     "text": [
      "You're using a GPT2TokenizerFast tokenizer. Please note that with a fast tokenizer, using the `__call__` method is faster than using a method to encode the text followed by a call to the `pad` method to get a padded encoding.\n"
     ]
    }
   ],
   "source": [
    "model_inputs = ppo_trainer.prepare_model_inputs(queries, responses)\n",
    "\n",
    "model_inputs_names = list(model_inputs.keys())"
   ]
  },
  {
   "cell_type": "code",
   "execution_count": 16,
   "id": "f8b47db6",
   "metadata": {},
   "outputs": [],
   "source": [
    "with torch.no_grad():\n",
    "    all_logprobs, _, values, masks = ppo_trainer.batched_forward_pass(\n",
    "        ppo_trainer.model, \n",
    "        queries, \n",
    "        responses,\n",
    "        model_inputs,\n",
    "    )\n",
    "    ref_logprobs, _, _, _ = ppo_trainer.batched_forward_pass(\n",
    "        ppo_trainer.ref_model, \n",
    "        queries, \n",
    "        responses,\n",
    "        model_inputs,\n",
    "    )"
   ]
  },
  {
   "cell_type": "code",
   "execution_count": 17,
   "id": "962516bc",
   "metadata": {},
   "outputs": [
    {
     "data": {
      "text/plain": [
       "tensor([[-0.0579,  2.8889,  1.1756,  1.0221, -0.0219,  0.6258,  0.6365, -0.8285,\n",
       "          0.9817,  2.0409,  2.1924, -0.6101,  1.7262,  1.7949,  1.0600,  1.1138,\n",
       "          0.9631],\n",
       "        [-0.1871,  0.3736,  3.6847,  1.3886,  2.3806,  2.2053, -0.5814, -0.0348,\n",
       "         -0.1332,  0.7509, -0.0424, -0.0572, -0.1253, -0.1446,  0.0921,  0.0761,\n",
       "          0.0411],\n",
       "        [-0.4117,  1.0689,  2.8009,  2.2523, -0.3216,  1.5736,  1.8668,  1.9978,\n",
       "          2.2966,  1.9017,  1.8970,  1.9212,  0.8773, -0.0558,  0.0100, -0.0904,\n",
       "          0.7808],\n",
       "        [-0.1174,  2.3982,  1.5142,  2.4210,  2.5110,  0.5193,  2.3591,  3.6734,\n",
       "          2.1235,  1.5990,  2.4188,  2.5484,  1.0261,  0.6882,  1.2205,  2.0228,\n",
       "          0.1358]], device='cuda:0')"
      ]
     },
     "execution_count": 17,
     "metadata": {},
     "output_type": "execute_result"
    }
   ],
   "source": [
    "values"
   ]
  },
  {
   "cell_type": "markdown",
   "id": "dc07a335",
   "metadata": {},
   "source": [
    "#### The output logits are policy's actions\n",
    "\n",
    "If the hidden states size is 768, for example if `new_policy.pretrained_model.lm_head` prints `Linear(in_features=768, out_features=50257, bias=False)`, then that means we are using our last hidden state to predicet logits for each of the 50257 tokens in our vocabulary.\n",
    "\n",
    "As you can seen below, the outputs of the policy are  `logits, loss, value = model(input_tokens)`\n",
    "\n",
    "```python\n",
    "class AutoModelForCausalLMWithValueHead(PreTrainedModelWrapper):\n",
    "        .\n",
    "        .\n",
    "        .\n",
    "    def forward(\n",
    "        self,\n",
    "        input_ids=None,\n",
    "        past_key_values=None,\n",
    "        attention_mask=None,\n",
    "        **kwargs,\n",
    "    ):\n",
    "        r\"\"\"\n",
    "        Applies a forward pass to the wrapped model and returns the logits of the value head.\n",
    "        Args:\n",
    "            input_ids (`torch.LongTensor` of shape `(batch_size, sequence_length)`):\n",
    "                Indices of input sequence tokens in the vocabulary.\n",
    "            past_key_values (`tuple(tuple(torch.FloatTensor))`, `optional`):\n",
    "                Contains pre-computed hidden-states (key and values in the attention blocks) as computed by the model\n",
    "                (see `past_key_values` input) to speed up sequential decoding.\n",
    "            attention_mask (`torch.FloatTensor` of shape `(batch_size, sequence_length)`, `optional`):\n",
    "                Mask to avoid performing attention on padding token indices. Mask values selected in ``[0, 1]``:\n",
    "                - 1 for tokens that are **not masked**,\n",
    "                - 0 for tokens that are **masked**.\n",
    "            kwargs (`dict`, `optional`):\n",
    "                Additional keyword arguments, that are passed to the wrapped model.\n",
    "        \"\"\"\n",
    "        base_model_output = self.pretrained_model(\n",
    "            input_ids=input_ids,\n",
    "            past_key_values=past_key_values,\n",
    "            attention_mask=attention_mask,\n",
    "            output_hidden_states=True,  # We force the model to output hidden states\n",
    "            **kwargs,\n",
    "        )\n",
    "\n",
    "        last_hidden_state = base_model_output.hidden_states[-1]\n",
    "        lm_logits = base_model_output.logits\n",
    "        loss = base_model_output.loss\n",
    "\n",
    "        value = self.v_head(last_hidden_state).squeeze(-1)\n",
    "\n",
    "        return (lm_logits, loss, value)\n",
    "```\n",
    "\n",
    "Logits are basically a non-normalized score for how likely a particular token is to come next. After the logits are pushed through a softmax layer they can sort of be interpreted as probabilities (horizontal bars below).\n",
    "\n",
    "<img src=\"https://lena-voita.github.io/resources/lectures/lang_models/neural/nn_lm_idea_linear-min.png\" height=600 width=800>\n",
    "\n",
    "#### Figure 3.\n",
    "\n",
    "The label \"|V| tokens of them\" in the diagram above is sayiing that there is a logit for every token in our vocabulary\n",
    "\n",
    "The shape of the logits tensor is:\n",
    "\n",
    "(batch_size, token_length_of_longest_sample_in_batch, number_of_tokens_in_vocabulary)"
   ]
  },
  {
   "cell_type": "code",
   "execution_count": 15,
   "id": "3785a69e",
   "metadata": {},
   "outputs": [
    {
     "data": {
      "text/plain": [
       "tensor([[   40,  3505,  4964,   366,    38],\n",
       "        [   40,  3521, 50256, 50256, 50256],\n",
       "        [   32, 43527,   913, 32251,   326],\n",
       "        [   40,   588, 10530, 50256, 50256]], device='cuda:0')"
      ]
     },
     "execution_count": 15,
     "metadata": {},
     "output_type": "execute_result"
    }
   ],
   "source": [
    "input_ids = ppo_trainer.data_collator(batch[\"input_ids\"])[\"input_ids\"]\n",
    "input_kwargs = {\"input_ids\": input_ids}\n",
    "\n",
    "input_ids"
   ]
  },
  {
   "cell_type": "code",
   "execution_count": 16,
   "id": "e26b6116",
   "metadata": {},
   "outputs": [
    {
     "name": "stdout",
     "output_type": "stream",
     "text": [
      "tensor([-15.1416, -15.4052, -18.6318,  ..., -22.9367, -20.7308, -14.9200],\n",
      "       device='cuda:0', grad_fn=<SliceBackward0>)\n",
      " \n",
      "None\n",
      " \n",
      "tensor([[-0.3129, -1.1940,  1.9523,  1.0476,  0.3108],\n",
      "        [-0.0737, -2.4869,  0.5519,  1.6753,  1.0928],\n",
      "        [-0.3067, -0.0982,  1.4994,  0.5941,  1.0739],\n",
      "        [ 0.0921,  1.7487,  0.8781,  0.3169,  1.0723]], device='cuda:0',\n",
      "       grad_fn=<SqueezeBackward1>)\n"
     ]
    },
    {
     "data": {
      "text/plain": [
       "torch.Size([4, 5, 50257])"
      ]
     },
     "execution_count": 16,
     "metadata": {},
     "output_type": "execute_result"
    }
   ],
   "source": [
    "logits, loss, values = new_policy(**input_kwargs)\n",
    "\n",
    "print(logits[0,0,:]) # -15.1416\n",
    "print(' ')\n",
    "print(loss) \n",
    "print(' ')\n",
    "print(values) # 0.0352,\n",
    "\n",
    "logits.shape"
   ]
  },
  {
   "cell_type": "markdown",
   "id": "c2063775",
   "metadata": {},
   "source": [
    "#### Batched_forward_pass \n",
    "\n",
    "Below we dissect the operations done in `ppo_trainer.batched_forward_pass()` \n",
    "\n",
    "In the below cell I want to prepare you for some potentially confusing:\n",
    "\n",
    "Step 3. \n",
    "\n",
    "```python\n",
    "# Step 3. Get the log probabilities of the generated (sampled from logits) tokens \n",
    "logp = F.log_softmax(logits[:, :-1, :], dim=2)\n",
    "logprobs = torch.gather(logp, 2, input_ids[:, 1:].unsqueeze(2)).squeeze(-1)\n",
    "```\n",
    "\n",
    "The blue diagram below, Blue Figure, is a tranformer and shows several blue boxes that represents the vector representations for each input token in the sequence horizontally and at each layer vertically. These are equivalent to the `h`'s in the grey green pink diagram above, Figure 3. \n",
    "\n",
    "It leaves out a a few steps between the deepest, aka last, or top most blue box and the word that comes out ot it. Implicit in Blue Figure is that just like in grey green pink Figure 3, in order for a token or word to be outputted from the top, the `h`'s go thru a linear layer to form `logits` and a softmax layer to form a vector of probabilities the same length as the number of possible tokens. Once you have this vector of probabilities, you have several options, you could choose the token with highest probability (ie a greedy approach) or sample based on those probabilities such that you have a higher chance of sampling reasonable tokens over unreasonable ones, ie `'I saw a cat on a'-> {'mat' > 'desk' > 'sofa' >>> 'cloud'} ` , this is what we chose, to sample, when we indicated `do_sample=True` above, which is why everytime you run the `response = ppo_trainer.generate(query, **lab.generation_kwargs)` you get different continuations of the beginning prompt text. \n",
    "\n",
    "The line of code `logp = F.log_softmax(logits[:, :-1, :], dim=2)` pushes the logits through both a softmax and then a natural log layer so that what you get is log probabilities `logp`. But why are we only concerned with the  `logp`'s before the last one `:-1` in `logits[:, :-1, :]` ? and why are we only concerned about the input IDs after the first one `1:` in `logprobs = torch.gather(logp, 2, input_ids[:, 1:].unsqueeze(2)).squeeze(-1)` ?\n",
    "\n",
    "<img src=\"https://coriva.eu.org/images/nlp/lamdamodel.png\" height=400 width=600>\n",
    "\n",
    "#### Blue Figure.\n",
    "\n",
    "Blue Figure supposes that tokens are words, notice how the word at the top of one column of boxes shows up at the bottom of the boxes of the next column just to the right of it. Basically they are saying that whatever token is sampled from the logits (softmaxed logits) gets incorporated into the newest, rightmost, part of the elongating sequence, and fed back into the transformer to generate the next set of logits to sample from and so on and so on. So if `t` is the position in the sequence, the token at position `t` is sampled from the logits at position `t - 1`, one position behind it. And since the torch.gather function is basically using the tokens in `input_ids`, to pick out the log probability in `logp` that corresponds to that token, we feed the `gather` function the `logits` and `input_ids` with `input_ids` shifted one position forward. \n",
    "\n",
    "here is a toy code snippet to show you have gather works, it assumes the batch size is 2, so 2 sample sequences, each sequence is 3 tokens long, and the vocabulary size is only 4. Instead of probabilities or log probabilties, we are just assuming we are indexing out the logits using our `ids` and that those logits are convienently `[1, 2, 3, 4]` for each position in the sequence.\n",
    "\n",
    "```python\n",
    "logits = torch.tensor([[[1, 2, 3, 4], [1, 2, 3, 4], [1, 2, 3, 4]],[[1, 2, 3, 4], [1, 2, 3, 4], [1, 2, 3, 4]]])\n",
    "ids = torch.tensor([[0, 0, 1], [2, 1, 0]])\n",
    "ids = ids.unsqueeze(2) # gather needs the dimension shape of logits and ids to be the same\n",
    "print(ids.shape) # torch.Size([2, 3, 1])\n",
    "selected_logits = torch.gather(logits, 2, ids)\n",
    "print(selected_logits.shape) # torch.Size([2, 3, 1])\n",
    "selected_logits = selected_logits.squeeze(-1) # we dont really need the last dimension, [2, 3, 1] -> [2, 3]\n",
    "selected_logits \n",
    "```\n",
    "result\n",
    "```\n",
    "tensor([[1, 1, 2],\n",
    "        [3, 2, 1]])\n",
    "```\n"
   ]
  },
  {
   "cell_type": "code",
   "execution_count": 17,
   "id": "9658ff3a",
   "metadata": {},
   "outputs": [
    {
     "data": {
      "text/plain": [
       "[tensor([-4.2014, -0.4262, -0.1335, -0.1198, -0.3778, -3.6512, -2.1602, -4.5329,\n",
       "         -2.2796], device='cuda:0'),\n",
       " tensor([-2.1674e-03, -4.1700e+00, -2.8944e-01, -1.2249e+00], device='cuda:0')]"
      ]
     },
     "execution_count": 17,
     "metadata": {},
     "output_type": "execute_result"
    }
   ],
   "source": [
    "import torch.nn.functional as F\n",
    "\n",
    "all_logprobs = []\n",
    "all_ref_logprobs = []\n",
    "all_values = []\n",
    "\n",
    "bs = lab.config.batch_size\n",
    "fbs = lab.config.forward_batch_size\n",
    "\n",
    "for i in range(int(bs / fbs)):\n",
    "    \n",
    "    query_batch = queries[i * fbs : (i + 1) * fbs]\n",
    "    response_batch = responses[i * fbs : (i + 1) * fbs]\n",
    "    \n",
    "    sequence_tokens = [torch.cat([q, r]) for q, r in zip(query_batch, response_batch)]\n",
    "    # Step 1. pads other sequences to the longest sample in the batch by \n",
    "    # adding tokenizer.pad_token (50256) to the right end of the sequence \n",
    "    input_ids = ppo_trainer.data_collator(sequence_tokens)[\"input_ids\"]\n",
    "    input_kwargs = {\"input_ids\": input_ids}\n",
    "    \n",
    "    # Step 2. Forward Pass through the model to get the logits\n",
    "    with torch.no_grad():\n",
    "        logits, _, v = new_policy(**input_kwargs)\n",
    "        ref_logits, _, _ = old_policy(**input_kwargs)\n",
    "    \n",
    "    # Step 3. Get the log probabilities of the generated (sampled from logits) tokens \n",
    "    logp = F.log_softmax(logits[:, :-1, :], dim=2)\n",
    "    logprobs = torch.gather(logp, 2, input_ids[:, 1:].unsqueeze(2)).squeeze(-1)\n",
    "\n",
    "    logp = F.log_softmax(ref_logits[:, :-1, :], dim=2)\n",
    "    ref_logprobs = torch.gather(logp, 2, input_ids[:, 1:].unsqueeze(2)).squeeze(-1)\n",
    "\n",
    "    # Step 4. use the lenghts of the non-padded sequences to cut out the log probs\n",
    "    # from the padded tokens and \n",
    "    for j in range(lab.config.forward_batch_size):\n",
    "\n",
    "        start = len(query_batch[j]) - 1\n",
    "        end = len(query_batch[j]) + len(response_batch[j]) - 1\n",
    "\n",
    "        if len(logprobs[j, start:end]) < 2:\n",
    "            raise ValueError(\"Responses are too short. Make sure they are at least 4 tokens long.\")\n",
    "\n",
    "        all_values.append(v[j, start - 1 : end - 1])\n",
    "        all_logprobs.append(logprobs[j, start:end])\n",
    "        all_ref_logprobs.append(ref_logprobs[j, start:end])\n",
    "        \n",
    "    break # stop after one forward_batch\n",
    "    \n",
    "all_logprobs"
   ]
  },
  {
   "cell_type": "markdown",
   "id": "8a98619b",
   "metadata": {},
   "source": [
    "#### Compute rewards\n",
    "\n",
    "$ R(x,y) = r(x,y) - \\beta \\log \\frac{\\pi(y|x)}{\\rho(y|x)} $\n",
    "\n",
    "We are using the [PPO2 algorithm](https://github.com/openai/baselines/tree/master/baselines/ppo2) with a modified reward, the log probabilities are used to calculate the KL divergence penalty on the reward with expectation $\\beta KL(\\pi, \\rho)$, this penalty is described in equation (2) in [Fine-Tuning Language Models from Human Preferences](https://arxiv.org/pdf/1909.08593.pdf) where x is the prompt, y is the generated sequence, $ \\pi $ is the distribution of the new policy, $ \\rho $ is the distribution of the old policy, aka reference model, aka pretrained transformer, $KL(\\pi, \\rho)$ is the KL divergence between $ \\rho $ and $ \\pi $ measured in *nats* and $ \\beta $ is dynamically adjusted to acheive a target $KL(\\pi, \\rho)$ such as *6 nats*."
   ]
  },
  {
   "cell_type": "code",
   "execution_count": 18,
   "id": "9aa3e5c1",
   "metadata": {},
   "outputs": [
    {
     "data": {
      "text/plain": [
       "[tensor([-0.0000, -0.0000, -0.0000, -0.0000, -0.0000, -0.0000, -0.0000, -0.0000, 0.9036],\n",
       "        device='cuda:0'),\n",
       " tensor([-0.0000, -0.0000, -0.0000, -2.4185], device='cuda:0'),\n",
       " tensor([-0.0000, -0.0000, -0.0000, -0.0000, -0.0000, -0.0000, 2.6272],\n",
       "        device='cuda:0'),\n",
       " tensor([-0.0000, -0.0000, -0.0000, -0.0000, -0.0000, -0.0000, -0.0000, -0.0000, -0.0000,\n",
       "         -0.0000, -0.0000, -0.0000, -0.0000, -0.0000, 0.2335], device='cuda:0')]"
      ]
     },
     "execution_count": 18,
     "metadata": {},
     "output_type": "execute_result"
    }
   ],
   "source": [
    "# next we use these end of episode (end of sentence) rewards\n",
    "logprobs, ref_logprobs, values = ppo_trainer.batched_forward_pass(queries, responses)\n",
    "rewards, non_score_reward = ppo_trainer.compute_rewards(scores, logprobs, ref_logprobs)\n",
    "\n",
    "rewards\n"
   ]
  },
  {
   "cell_type": "code",
   "execution_count": 19,
   "id": "0b6a0402",
   "metadata": {},
   "outputs": [
    {
     "name": "stdout",
     "output_type": "stream",
     "text": [
      "tensor([-0.0000, -0.0000, -0.0000, -0.0000, -0.0000, -0.0000, -0.0000, -0.0000, 0.9036],\n",
      "       device='cuda:0')\n",
      "tensor([-0.0000, -0.0000, -0.0000, -2.4185], device='cuda:0')\n",
      "tensor([-0.0000, -0.0000, -0.0000, -0.0000, -0.0000, -0.0000, 2.6272],\n",
      "       device='cuda:0')\n",
      "tensor([-0.0000, -0.0000, -0.0000, -0.0000, -0.0000, -0.0000, -0.0000, -0.0000, -0.0000,\n",
      "        -0.0000, -0.0000, -0.0000, -0.0000, -0.0000, 0.2335], device='cuda:0')\n"
     ]
    }
   ],
   "source": [
    "# inside the compute_rewards function\n",
    "# before any updates to the new policy, it is the same as the old policy, so logprob_ - ref_logprob_ = 0 \n",
    "\n",
    "rewards_, non_score_rewards_ = [], []\n",
    "\n",
    "for score_, logprob_, ref_logprob_ in zip(scores, logprobs, ref_logprobs):\n",
    "    kl = logprob_ - ref_logprob_ # kl = log[pi(y|x)/rho(y|x)]\n",
    "    non_score_reward_ = -ppo_trainer.kl_ctl.value * kl # -beta * log[pi(y|x)/rho(y|x)]\n",
    "    non_score_rewards_.append(non_score_reward_)\n",
    "    reward_ = non_score_reward_.clone()\n",
    "    reward_[-1] += score_ # the reward model score is added only to the last token in each sequence\n",
    "    rewards_.append(reward_)\n",
    "    print(reward_)"
   ]
  },
  {
   "cell_type": "code",
   "execution_count": null,
   "id": "b2defdf4",
   "metadata": {},
   "outputs": [],
   "source": []
  }
 ],
 "metadata": {
  "kernelspec": {
   "display_name": "Python 3",
   "language": "python",
   "name": "python3"
  },
  "language_info": {
   "codemirror_mode": {
    "name": "ipython",
    "version": 3
   },
   "file_extension": ".py",
   "mimetype": "text/x-python",
   "name": "python",
   "nbconvert_exporter": "python",
   "pygments_lexer": "ipython3",
   "version": "3.7.5"
  }
 },
 "nbformat": 4,
 "nbformat_minor": 5
}
