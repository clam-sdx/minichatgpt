{
 "cells": [
  {
   "cell_type": "markdown",
   "id": "b884b9a1",
   "metadata": {},
   "source": [
    "#### Applying the PPO RL Algorithm to Natural Language Sequences\n",
    "\n",
    "The reinforcement learning (RL) update step uses the log probabilities, value function estimations, stepwise rewards, the prompt tokens and generated tokens, to update the langauge model\n",
    "\n",
    "Lets first just quickly go thru all the steps from part 1 to get to the same log probabilities, value function estimations, stepwise rewards, the prompt tokens and generated tokens in order to continue from where we left off"
   ]
  },
  {
   "cell_type": "code",
   "execution_count": 32,
   "id": "ffbc2754",
   "metadata": {},
   "outputs": [
    {
     "name": "stdout",
     "output_type": "stream",
     "text": [
      "The autoreload extension is already loaded. To reload it, use:\n",
      "  %reload_ext autoreload\n"
     ]
    }
   ],
   "source": [
    "import torch\n",
    "\n",
    "from minichatgpt.experiments.imdb import config, sent_kwargs\n",
    "from minichatgpt import Lab\n",
    "from minichatgpt.processdata.collators import imdb_dataloader_collator\n",
    "from datasets import Dataset\n",
    "\n",
    "# for the loss calculation\n",
    "from minichatgpt.core import masked_whiten, masked_mean, clip_by_value\n",
    "\n",
    "%load_ext autoreload\n",
    "%autoreload 2"
   ]
  },
  {
   "cell_type": "code",
   "execution_count": 2,
   "id": "32c0cc6d",
   "metadata": {},
   "outputs": [
    {
     "name": "stdout",
     "output_type": "stream",
     "text": [
      "number of GPUs: 0\n",
      "config.batch_size 4\n",
      "config.forward_batch_size 1\n"
     ]
    }
   ],
   "source": [
    "# The notebook should work even without GPUs, but if you have them, confirm you do\n",
    "print ('number of GPUs:', torch.cuda.device_count())\n",
    "\n",
    "# For the sake of the speed of this demonstration, the batch_size is temporarily decreased from 256 to 4\n",
    "batch_size = 4\n",
    "config.batch_size = batch_size\n",
    "config.forward_batch_size = max(batch_size//8,1)\n",
    "\n",
    "print('config.batch_size', config.batch_size)\n",
    "print('config.forward_batch_size', config.forward_batch_size)"
   ]
  },
  {
   "cell_type": "code",
   "execution_count": 3,
   "id": "7ea44cad",
   "metadata": {},
   "outputs": [
    {
     "name": "stderr",
     "output_type": "stream",
     "text": [
      "Found cached dataset imdb (/Users/carson/.cache/huggingface/datasets/imdb/plain_text/1.0.0/d613c88cf8fa3bab83b4ded3713f1f74830d1100e171db75bbddb80b3345c9c0)\n",
      "Loading cached processed dataset at /Users/carson/.cache/huggingface/datasets/imdb/plain_text/1.0.0/d613c88cf8fa3bab83b4ded3713f1f74830d1100e171db75bbddb80b3345c9c0/cache-57d76e4722ace3a5.arrow\n",
      "Loading cached processed dataset at /Users/carson/.cache/huggingface/datasets/imdb/plain_text/1.0.0/d613c88cf8fa3bab83b4ded3713f1f74830d1100e171db75bbddb80b3345c9c0/cache-26d56c39f81904d0.arrow\n"
     ]
    }
   ],
   "source": [
    "lab = Lab(config)\n",
    "\n",
    "dataset = lab.build_dataset(\n",
    "    dataset_name=\"imdb\",\n",
    "    input_min_text_length=2,\n",
    "    input_max_text_length=8,\n",
    ")"
   ]
  },
  {
   "cell_type": "code",
   "execution_count": 4,
   "id": "ebbe7316",
   "metadata": {},
   "outputs": [],
   "source": [
    "new_policy, old_policy, tokenizer = lab.init_policies_tokenizer()\n",
    "\n",
    "lab.set_generation_config(\n",
    "    do_sample=True,\n",
    "    output_min_length=4,\n",
    "    output_max_length=16,\n",
    "    pad_token_id=tokenizer.eos_token_id,\n",
    ")\n",
    "\n",
    "ppo_trainer = lab.init_ppo_trainer(\n",
    "    config, \n",
    "    new_policy, \n",
    "    old_policy, \n",
    "    tokenizer, \n",
    "    dataset, \n",
    "    dataloader_collator = imdb_dataloader_collator,\n",
    ")\n",
    "\n",
    "reward_model = lab.init_reward_model()"
   ]
  },
  {
   "cell_type": "code",
   "execution_count": 6,
   "id": "8b56fd60",
   "metadata": {},
   "outputs": [
    {
     "name": "stderr",
     "output_type": "stream",
     "text": [
      "/Users/carson/projects/minichatgpt/venv/lib/python3.10/site-packages/transformers/pipelines/text_classification.py:104: UserWarning: `return_all_scores` is now deprecated,  if want a similar funcionality use `top_k=None` instead of `return_all_scores=True` or `top_k=1` instead of `return_all_scores=False`.\n",
      "  warnings.warn(\n"
     ]
    },
    {
     "data": {
      "text/plain": [
       "[tensor(1.3289), tensor(-1.1267), tensor(2.6723), tensor(-0.2299)]"
      ]
     },
     "execution_count": 6,
     "metadata": {},
     "output_type": "execute_result"
    }
   ],
   "source": [
    "for batch_step, batch in enumerate(ppo_trainer.dataloader):\n",
    "    \n",
    "    queries = batch['input_ids']\n",
    "    \n",
    "    #### Get response from gpt2\n",
    "    responses = []\n",
    "    for query in queries:\n",
    "        gen_len = lab.output_length_sampler()\n",
    "        lab.generation_kwargs[\"max_new_tokens\"] = gen_len\n",
    "        response = ppo_trainer.generate(query, **lab.generation_kwargs)\n",
    "        responses.append(response.squeeze()[-gen_len:])\n",
    "\n",
    "    batch['response'] = [tokenizer.decode(r.squeeze()) for r in responses]\n",
    "\n",
    "    #### Compute sentiment score\n",
    "    texts = [q + r for q,r in zip(batch['query'], batch['response'])]\n",
    "    pipe_outputs = lab.reward_model(texts, **sent_kwargs)\n",
    "    rewards = [torch.tensor(output[1][\"score\"]) for output in pipe_outputs]\n",
    "    break\n",
    "    \n",
    "queries, responses, scores = ppo_trainer._step_safety_checker(batch_size, queries, responses, rewards)\n",
    "\n",
    "scores"
   ]
  },
  {
   "cell_type": "code",
   "execution_count": 8,
   "id": "9996d639",
   "metadata": {},
   "outputs": [
    {
     "name": "stderr",
     "output_type": "stream",
     "text": [
      "You're using a GPT2TokenizerFast tokenizer. Please note that with a fast tokenizer, using the `__call__` method is faster than using a method to encode the text followed by a call to the `pad` method to get a padded encoding.\n"
     ]
    },
    {
     "name": "stdout",
     "output_type": "stream",
     "text": [
      "['input_ids', 'attention_mask', 'labels'] torch.Size([4, 22])\n"
     ]
    },
    {
     "data": {
      "text/plain": [
       "tensor([[-0.0000, -0.0000, -0.0000, -0.0000, -0.0000, -0.0000, -0.0000, -0.0000,\n",
       "         -0.0000, -0.0000,  1.3289, -0.0000, -0.0000, -0.0000, -0.0000, -0.0000,\n",
       "         -0.0000, -0.0000, -0.0000, -0.0000, -0.0000],\n",
       "        [-0.0000, -0.0000, -0.0000, -0.0000, -0.0000, -1.1267, -0.0000, -0.0000,\n",
       "         -0.0000, -0.0000, -0.0000, -0.0000, -0.0000, -0.0000, -0.0000, -0.0000,\n",
       "         -0.0000, -0.0000, -0.0000, -0.0000, -0.0000],\n",
       "        [-0.0000, -0.0000, -0.0000, -0.0000, -0.0000, -0.0000, -0.0000,  2.6723,\n",
       "         -0.0000, -0.0000, -0.0000, -0.0000, -0.0000, -0.0000, -0.0000, -0.0000,\n",
       "         -0.0000, -0.0000, -0.0000, -0.0000, -0.0000],\n",
       "        [-0.0000, -0.0000, -0.0000, -0.0000, -0.0000, -0.0000, -0.0000, -0.0000,\n",
       "         -0.0000, -0.0000, -0.0000, -0.0000, -0.0000, -0.0000, -0.0000, -0.0000,\n",
       "         -0.0000, -0.0000, -0.0000, -0.0000, -0.2299]],\n",
       "       grad_fn=<StackBackward0>)"
      ]
     },
     "execution_count": 8,
     "metadata": {},
     "output_type": "execute_result"
    }
   ],
   "source": [
    "model_inputs = ppo_trainer.prepare_model_inputs(queries, responses)\n",
    "model_inputs_names = list(model_inputs.keys())\n",
    "print(model_inputs_names, model_inputs['input_ids'].shape)\n",
    "\n",
    "# next we use these end of episode (end of sentence) rewards\n",
    "all_logprobs, _, values, masks = ppo_trainer.batched_forward_pass(ppo_trainer.model, queries, responses, model_inputs)\n",
    "ref_logprobs, _, _, _ = ppo_trainer.batched_forward_pass(ppo_trainer.ref_model, queries, responses, model_inputs)\n",
    "\n",
    "rewards, non_score_reward = ppo_trainer.compute_rewards(scores, all_logprobs, ref_logprobs, masks)\n",
    "\n",
    "rewards"
   ]
  },
  {
   "cell_type": "markdown",
   "id": "6bd8f49c",
   "metadata": {},
   "source": [
    "#### train_minibatch()\n",
    "\n",
    "train_minibatch does 2 things:\n",
    "\n",
    "1. computes the loss components using PPO\n",
    "2. combine loss components into `loss`\n",
    "3. does backpropagation on `loss`\n",
    "\n",
    "So far we have just calculated the tensors components we need to do PPO. Next we will study whats going on in the PPO update step `ppo_trainer.train_minibatch`.\n",
    "\n",
    "Below, when you run these steps, even with one iteration, the policy will be updated such that the rewards  will have changed."
   ]
  },
  {
   "cell_type": "code",
   "execution_count": 9,
   "id": "2ae21915",
   "metadata": {},
   "outputs": [
    {
     "data": {
      "text/plain": [
       "dict_keys(['queries', 'responses', 'logprobs', 'values', 'rewards', 'masks', 'input_ids', 'attention_mask', 'labels'])"
      ]
     },
     "execution_count": 9,
     "metadata": {},
     "output_type": "execute_result"
    }
   ],
   "source": [
    "mini_batch_dict = {\n",
    "    \"queries\": queries,\n",
    "    \"responses\": responses,\n",
    "    \"logprobs\": all_logprobs,\n",
    "    \"values\": values,\n",
    "    \"rewards\": rewards,\n",
    "    \"masks\": masks,\n",
    "}\n",
    "\n",
    "mini_batch_dict.update(model_inputs)\n",
    "\n",
    "mini_batch_dict.keys()"
   ]
  },
  {
   "cell_type": "code",
   "execution_count": 17,
   "id": "fc39b98e",
   "metadata": {},
   "outputs": [],
   "source": [
    "def mini_batch_collator(data):\n",
    "    return_dict = dict()\n",
    "    for key in data[0]:\n",
    "        if key in [\"queries\", \"responses\"]:\n",
    "            return_dict[key] = [d[key] for d in data]\n",
    "        else:\n",
    "            return_dict[key] = torch.stack([d[key] for d in data]).to(ppo_trainer.accelerator.device)\n",
    "    return return_dict\n",
    "\n",
    "mini_batch_data = Dataset.from_dict(mini_batch_dict)\n",
    "mini_batch_data.set_format(\"torch\")\n",
    "\n",
    "mini_batch_dataloader = torch.utils.data.DataLoader(\n",
    "    mini_batch_data,\n",
    "    batch_size=ppo_trainer.config.mini_batch_size,\n",
    "    shuffle=True,\n",
    "    collate_fn=mini_batch_collator,\n",
    ")"
   ]
  },
  {
   "cell_type": "code",
   "execution_count": 19,
   "id": "0777af19",
   "metadata": {},
   "outputs": [
    {
     "data": {
      "text/plain": [
       "{'loss/policy': tensor(3.4060e-08, grad_fn=<DivBackward0>),\n",
       " 'loss/value': tensor(1.3241, grad_fn=<MulBackward0>),\n",
       " 'loss/total': tensor(0.1324, grad_fn=<AddBackward0>),\n",
       " 'policy/entropy': tensor(3.5722, grad_fn=<DivBackward0>),\n",
       " 'policy/approxkl': tensor(0., grad_fn=<MulBackward0>),\n",
       " 'policy/policykl': tensor(0., grad_fn=<DivBackward0>),\n",
       " 'policy/clipfrac': tensor(0., dtype=torch.float64),\n",
       " 'policy/advantages': tensor([[ 1.1854,  0.4587, -1.2225, -0.3850,  1.5438,  0.6715,  0.0767, -1.1432,\n",
       "          -1.6151, -1.6151, -1.6151, -1.6151, -1.6151, -1.6151, -1.6151, -1.6151,\n",
       "          -1.6151, -1.6151, -1.6151, -1.6151, -1.6151]]),\n",
       " 'policy/advantages_mean': tensor(-3.4060e-08),\n",
       " 'policy/ratio': tensor([[1., 1., 1., 1., 1., 1., 1., 1., 1., 1., 1., 1., 1., 1., 1., 1., 1., 1.,\n",
       "          1., 1., 1.]], grad_fn=<ExpBackward0>),\n",
       " 'returns/mean': tensor(2.4864),\n",
       " 'returns/var': tensor(0.0243),\n",
       " 'val/vpred': tensor(1.2069, grad_fn=<DivBackward0>),\n",
       " 'val/error': tensor(2.1088, grad_fn=<DivBackward0>),\n",
       " 'val/clipfrac': tensor(0.2857, dtype=torch.float64),\n",
       " 'val/mean': tensor(1.2041),\n",
       " 'val/var': tensor(0.6427)}"
      ]
     },
     "execution_count": 19,
     "metadata": {},
     "output_type": "execute_result"
    }
   ],
   "source": [
    "for batch in mini_batch_dataloader:\n",
    "    model_inputs = {k: batch[k] for k in model_inputs_names}\n",
    "    \n",
    "    new_logprobs, logits, vpreds, _ = ppo_trainer.batched_forward_pass(\n",
    "        ppo_trainer.model, batch[\"queries\"], batch[\"responses\"], model_inputs\n",
    "    )\n",
    "    \n",
    "    old_logprobs = batch[\"logprobs\"]\n",
    "    values = batch[\"values\"]\n",
    "    rewards = batch[\"rewards\"]\n",
    "    masks = batch[\"masks\"]\n",
    "    \n",
    "    loss_p, loss_v, train_stats = ppo_trainer.loss(\n",
    "        old_logprobs, \n",
    "        values, \n",
    "        rewards, \n",
    "        logits, \n",
    "        vpreds, \n",
    "        new_logprobs, \n",
    "        masks,\n",
    "    )\n",
    "    \n",
    "    loss = loss_p + loss_v\n",
    "    \n",
    "    ppo_trainer.optimizer.zero_grad()\n",
    "    ppo_trainer.accelerator.backward(loss)\n",
    "    ppo_trainer.optimizer.step()\n",
    "    \n",
    "    break\n",
    "    \n",
    "train_stats"
   ]
  },
  {
   "cell_type": "code",
   "execution_count": 20,
   "id": "d3d4434e",
   "metadata": {},
   "outputs": [
    {
     "name": "stdout",
     "output_type": "stream",
     "text": [
      "['input_ids', 'attention_mask', 'labels'] torch.Size([4, 22])\n"
     ]
    },
    {
     "data": {
      "text/plain": [
       "tensor([[ 5.1195e-03, -2.9128e-03, -8.2798e-04, -3.2972e-03,  4.1103e-04,\n",
       "         -3.7189e-03,  2.1945e-03, -6.8619e-04, -2.5072e-04,  9.2898e-03,\n",
       "          1.3307e+00, -2.7657e-04,  1.6308e-04,  1.6222e-04,  2.0742e-04,\n",
       "          1.8435e-04,  2.5845e-04,  3.0670e-04,  3.6421e-04,  4.0483e-04,\n",
       "          4.5967e-04],\n",
       "        [ 4.4575e-04,  1.6819e-05, -2.1124e-04, -3.0582e-04, -1.7338e-03,\n",
       "         -1.1285e+00, -2.1946e-03, -3.1012e-03, -3.0080e-03, -2.9788e-03,\n",
       "         -2.9159e-03, -2.8889e-03, -2.8582e-03, -2.8262e-03, -2.7866e-03,\n",
       "         -2.7643e-03, -2.7641e-03, -2.7315e-03, -2.6804e-03, -2.6231e-03,\n",
       "         -2.5735e-03],\n",
       "        [-1.1225e-03, -3.7470e-01,  4.4422e-02,  3.8475e-02, -1.6888e-01,\n",
       "         -1.7180e-01, -1.4901e-02,  2.6982e+00,  1.7842e-02,  8.2083e-04,\n",
       "          9.9196e-04,  9.8677e-04,  1.0350e-03,  1.1814e-03,  1.3115e-03,\n",
       "          1.3364e-03,  1.4517e-03,  1.4669e-03,  1.6171e-03,  1.5698e-03,\n",
       "          1.7642e-03],\n",
       "        [ 4.0667e-03, -3.1967e-04, -4.6666e-04, -4.6276e-03, -1.2221e-03,\n",
       "         -1.5824e-04, -1.4482e-03, -3.8950e-04,  4.5187e-04,  2.9753e-03,\n",
       "          4.2737e-04, -1.6174e-03,  2.7758e-03, -5.4569e-04, -8.8210e-04,\n",
       "          4.0030e-03,  1.4343e-02,  2.9528e-03, -6.9733e-04,  4.5207e-04,\n",
       "         -2.3490e-01]], grad_fn=<StackBackward0>)"
      ]
     },
     "execution_count": 20,
     "metadata": {},
     "output_type": "execute_result"
    }
   ],
   "source": [
    "model_inputs = ppo_trainer.prepare_model_inputs(queries, responses)\n",
    "model_inputs_names = list(model_inputs.keys())\n",
    "print(model_inputs_names, model_inputs['input_ids'].shape)\n",
    "\n",
    "# next we use these end of episode (end of sentence) rewards\n",
    "all_logprobs, _, values, masks = ppo_trainer.batched_forward_pass(ppo_trainer.model, queries, responses, model_inputs)\n",
    "ref_logprobs, _, _, _ = ppo_trainer.batched_forward_pass(ppo_trainer.ref_model, queries, responses, model_inputs)\n",
    "\n",
    "rewards, non_score_reward = ppo_trainer.compute_rewards(scores, all_logprobs, ref_logprobs, masks)\n",
    "\n",
    "rewards"
   ]
  },
  {
   "cell_type": "markdown",
   "id": "196fbc73",
   "metadata": {},
   "source": [
    "### loss()\n",
    "\n",
    "This method is where the specifics of GAE and PPO are implemented.\n",
    "\n",
    "#### Advantage = Returns - Values\n",
    "\n",
    "The term `lastgaelam` meanns last [generalized advantage estimator](https://arxiv.org/pdf/1506.02438.pdf) GAE lambda.\n",
    "There are many resources already for explaining what the [Advantage](https://huggingface.co/blog/deep-rl-a2c) function is, so I will not go into it too much. In the equation below $A^{(k)}_{t}$ is the advantage that represents \"Compared to the average reward, or expected reward, reward we should get from state $ s_{t} $  till the end, How much more or less did we get specifically as a result of taking the action we took at step t rather than all the other actions we could have taken, not including the actions we took after or before step t\", so in a simple equation:\n",
    "\n",
    "$$ Advantage = Returns - Values $$\n",
    "\n",
    "`returns` is the total sum of rewards $ R(t) = r_t + \\gamma r_{t+1} + \\gamma^2 r_{t+2} + \\cdots + \\gamma^T r_{T} $ where T is the total number of timesteps in the episode and gamma $ \\gamma $ is the discount factor that when small << 1 emphasizes short term rewards over long term rewards and when $ \\gamma $ = 1 weights longer term and short term equally.\n",
    "\n",
    "`values` is the model's prediction of what the returns will be at any given timestep t and state $s_t$\n"
   ]
  },
  {
   "cell_type": "code",
   "execution_count": 21,
   "id": "1b18983d",
   "metadata": {},
   "outputs": [
    {
     "name": "stdout",
     "output_type": "stream",
     "text": [
      "lambda 0.95 gamma 1\n"
     ]
    }
   ],
   "source": [
    "print('lambda', ppo_trainer.config.lam, 'gamma', ppo_trainer.config.gamma)"
   ]
  },
  {
   "cell_type": "markdown",
   "id": "16554a02",
   "metadata": {},
   "source": [
    "#### Generalized Advantage Estimator (GAE)\n",
    "\n",
    "$A^{(1)}_{t}$ does this by incorporating only the actual reward r_t we got immediately after taking action $ a_{t} $ in $ s_{t} $ + $\\gamma V(s_{t+1})$ to estimate the rest of the future - $V(s_t)$, the expected total rewards averaged across all the action options at state s_t, good and bad. \n",
    "\n",
    "\\begin{align}\n",
    "\\hat{A}_t^{(1)} &= r_t + \\gamma V(s_{t+1}) - V(s_t) \\\\\n",
    "\\hat{A}_t^{(2)} &= r_t + \\gamma r_{t+1} + \\gamma^2 V(s_{t+2}) - V(s_t) \\\\\n",
    "\\cdots &= \\cdots \\\\ \n",
    "\\hat{A}_t^{(\\infty)} &= r_t + \\gamma r_{t+1} + \\gamma^2 r_{t+2} + \\cdots - V(s_t)\n",
    "\\end{align}\n",
    "\n",
    "$A^{(2)}_{t}$ is similar to $A^{(1)}_{t}$, only we incorporate 2 steps of actual reward in the future then estimate the rest, and so on and so on.\n",
    "\n",
    "\n",
    "lam, or lambda $ \\lambda $ is the weight parameter, it is taught intuitively here in this other lesson about [ Exponentially Weighted Moving Average](https://medium.com/mlearning-ai/exponentially-weighted-average-5eed00181a09) (EWMA), only in this lesson it is called $ \\beta $. Basically, the higher $ \\lambda $ the more you are placing weight on values other than the most immediate one. \n",
    "\n",
    "<img src=\"https://miro.medium.com/v2/resize:fit:1400/format:webp/1*u3MIYRnLguhjvM0tr72wBA.png\" width=600 height=400>\n",
    "\n",
    "What you see is that lower the $ \\beta $ is, the more noisy the signal. Thats because the lower the beta the less we are taking into account the more stable past values, instead changing the moving avareg alot based on the most recent volatile new piece of data. With higher beta we are weighing the past known and now static values more heavily, thereby inducing a smoother curve.\n",
    "\n",
    "However, and im sorry for doing this, but with respect to GAE, the situation is reversed int both ways, from the example shown in the graph. So why did I show it to you? Well the example is easier to understand and the relationship is similar only reversed, and the relationship is harder to describe. But once you see that relationship, I think its easier to take the inverse of a relatshiption you do understand, than to explain the relationship is a more confusing setting. \n",
    "\n",
    "Whereas in typical times series EWMA, the most immediate data is the most recently data in the past and the other data is the data in the farther past, in GAE the most immediate data is the next reward and the other data is the rewards we are estimating we might get in the future, via the state value function V(s). The $ \\lambda $ is therefore higher when you want to weight these far future estimates higher at the expense of the ones in your immediate future which are more certain. \n",
    "\n",
    "$\\hat{A}_t^{GAE(\\gamma,\\lambda)}$  is the generalized advantage estimator. This [Blog on GAE](https://danieltakeshi.github.io/2017/04/02/notes-on-the-generalized-advantage-estimation-paper/) explains it well. The higher lambda is the more future steps (k's) you are taking into account\n",
    "\n",
    "\\begin{align}\n",
    "\\hat{A}_t^{GAE(\\gamma,\\lambda)} &= (1-\\lambda)\\Big(\\hat{A}_{t}^{(1)} + \\lambda \\hat{A}_{t}^{(2)} + \\lambda^2 \\hat{A}_{t}^{(3)} + \\cdots \\Big) \\\\\n",
    "&= (1-\\lambda)\\Big(\\delta_t^V + \\lambda(\\delta_t^V + \\gamma \\delta_{t+1}^V) + \\lambda^2(\\delta_t^V + \\gamma \\delta_{t+1}^V + \\gamma^2 \\delta_{t+2}^V)+ \\cdots \\Big)  \\\\\n",
    "&= (1-\\lambda)\\Big( \\delta_t^V(1+\\lambda+\\lambda^2+\\cdots) + \\gamma\\delta_{t+1}^V(\\lambda+\\lambda^2+\\cdots) + \\cdots \\Big) \\\\\n",
    "&= (1-\\lambda)\\left(\\delta_t^V \\frac{1}{1-\\lambda} + \\gamma \\delta_{t+1}^V\\frac{\\lambda}{1-\\lambda} + \\cdots\\right) \\\\\n",
    "&= \\sum_{l=0}^\\infty (\\gamma \\lambda)^l \\delta_{t+l}^{V}\n",
    "\\end{align}\n",
    "\n",
    "***\n",
    "The tradeoff here is that the estimators $A^{(k)}_{t}$ with small k have low variance but high bias, whereas those with large k have low bias but high variance. Why?\n",
    "\n",
    "I think of it based on the number of terms. With small k, we have fewer terms to sum over (which means low variance). However, the bias is relatively large because it does not make use of extra “exact” information with r_K for K > k\n",
    "\n",
    "Here’s another way to think of it as emphasized in the paper: V(s_t)\n",
    "is constant among the estimator class, so it does not affect the relative bias or variance among the estimators: differences arise entirely due to the k -step returns.\n",
    "***\n",
    "\n",
    "In RL and machine learning, we are calling this noise, the variance, as in the bias variance tradeoff.\n",
    "\n",
    "I like to sum this up as \"the L in lambda for for longtermism\" and depending on the choices we make today, there are many variants of the future we could end up in, so larges L means more longterms and more variance. \n",
    "\n",
    "Basically like many tradeoffs there exists a point of balance for your particular problem. Like in the below example, you get bad learning not only when lambda is too high, but also when it is too low.\n",
    "\n",
    "<img src=\"https://d3i71xaburhd42.cloudfront.net/ca11ba7b2991fe07b7a99b3a3aeba2486ed36261/9-Figure4-1.png\">\n",
    "\n",
    "Im going to rewrite the set of equations above to better mirror the code that we will implement below;\n",
    "\n",
    "first lets add the lambda term\n",
    "\n",
    "\\begin{align}\n",
    "\\hat{A}_t^{(1)} &= \\delta^{V}_{t} = r_t + \\gamma V(s_{t+1}) - V(s_t) \\\\\n",
    "\\hat{A}_t^{(2)} &= \\delta^{V}_{t} + (\\gamma \\lambda) \\delta^{V}_{t+1} \\\\\n",
    "\\hat{A}_t^{(k)} &= \\sum_{l=0}^{l=k} (\\gamma \\lambda)^l \\delta_{t+l}^{V}\n",
    "\\end{align}\n",
    "\n",
    "next, rewrite ${A}_t^{(T - t)}$ in terms of t + 1, so that we can calculate the GAE for each\n",
    "step t in the sequence from the last T to the first 0:\n",
    "\n",
    "\\begin{align}\n",
    "\\delta^{V}_{t} &= r_t + \\gamma V(s_{t+1}) - V(s_t) \\\\\n",
    "\\hat{A}_t^{(T - t)} &= \\delta^{V}_{t} + (\\gamma \\lambda) \\delta^{V}_{t+1} \\\\\n",
    "\\end{align}\n",
    "\n",
    "The above two expressions correspond to line 2 and 3 below respectively"
   ]
  },
  {
   "cell_type": "code",
   "execution_count": 27,
   "id": "aedd6bab",
   "metadata": {},
   "outputs": [
    {
     "name": "stdout",
     "output_type": "stream",
     "text": [
      "gen_len 21\n",
      "tensor([[ 1.3324,  1.4025, -0.6980, -0.0607,  1.0487,  0.7870, -0.1646, -0.5177,\n",
      "         -0.8657,  0.7834, -1.6866,  0.0000,  0.0000,  0.0000,  0.0000,  0.0000,\n",
      "          0.0000,  0.0000,  0.0000,  0.0000,  0.0000],\n",
      "        [-0.5344, -0.5625, -3.2472, -2.1215, -2.5153, -3.4795,  0.0000,  0.0000,\n",
      "          0.0000,  0.0000,  0.0000,  0.0000,  0.0000,  0.0000,  0.0000,  0.0000,\n",
      "          0.0000,  0.0000,  0.0000,  0.0000,  0.0000],\n",
      "        [ 1.6768,  0.5432,  0.2625,  0.9680,  2.2337,  2.0082,  1.0950,  0.3707,\n",
      "          0.0000,  0.0000,  0.0000,  0.0000,  0.0000,  0.0000,  0.0000,  0.0000,\n",
      "          0.0000,  0.0000,  0.0000,  0.0000,  0.0000],\n",
      "        [ 0.4374,  0.4604,  0.4846,  0.5101,  0.5370,  0.5652, -0.3046, -0.9661,\n",
      "         -1.8352, -2.9504, -2.5220, -2.9497, -0.9531,  0.3294, -0.3411,  0.3765,\n",
      "          0.6635, -1.3289, -1.0629, -1.3277, -0.3742]],\n",
      "       grad_fn=<TransposeBackward0>)\n"
     ]
    }
   ],
   "source": [
    "values = values * masks\n",
    "rewards = rewards * masks\n",
    "\n",
    "gen_len = rewards.shape[-1]\n",
    "print('gen_len', gen_len)\n",
    "\n",
    "lastgaelam = 0 # lastgaelam takes the role of delta_t+1 in \n",
    "advantages_reversed = []\n",
    "\n",
    "# iterate backwards from last time step of episode, t = T -> 0 \n",
    "for t in reversed(range(gen_len)):\n",
    "    \n",
    "    # 1. V(s_t+1) for all t except t = T\n",
    "    nextvalues = values[:, t + 1] if t < gen_len - 1 else 0.0  \n",
    "    \n",
    "    # 2. delta_t =  r_t + gamma*V(s_t+1) - V(s_t) \n",
    "    delta = rewards[:, t] + ppo_trainer.config.gamma * nextvalues - values[:, t]\n",
    "    \n",
    "    # 3. A_t = delta_t + gamma*lambda*delta_t+1\n",
    "    lastgaelam = delta + ppo_trainer.config.gamma * ppo_trainer.config.lam * lastgaelam\n",
    "    \n",
    "    advantages_reversed.append(lastgaelam)\n",
    "    \n",
    "    #print(t, nextvalues, lastgaelam)\n",
    "    \n",
    "#print(' ')\n",
    "#print(advantages_reversed)\n",
    "#print(' ')\n",
    "\n",
    "# reverse advantages_reversed to put it back into forward chronological order then concatenate\n",
    "advantages = torch.stack(advantages_reversed[::-1]).transpose(0, 1)\n",
    "\n",
    "print(advantages)"
   ]
  },
  {
   "cell_type": "code",
   "execution_count": 31,
   "id": "02e7f70f",
   "metadata": {},
   "outputs": [
    {
     "name": "stdout",
     "output_type": "stream",
     "text": [
      "tensor([[ 1.3324,  1.4025,  1.3676,  1.3654,  1.4211,  1.4601,  1.4556,  1.4275,\n",
      "          1.3849,  1.4243,  1.3307,  0.0000,  0.0000,  0.0000,  0.0000,  0.0000,\n",
      "          0.0000,  0.0000,  0.0000,  0.0000,  0.0000],\n",
      "        [-0.5344, -0.5625, -0.7249, -0.8308, -0.9562, -1.1285,  0.0000,  0.0000,\n",
      "          0.0000,  0.0000,  0.0000,  0.0000,  0.0000,  0.0000,  0.0000,  0.0000,\n",
      "          0.0000,  0.0000,  0.0000,  0.0000,  0.0000],\n",
      "        [ 1.6768,  1.7039,  2.0918,  2.0957,  2.1689,  2.4382,  2.6648,  2.6982,\n",
      "          0.0000,  0.0000,  0.0000,  0.0000,  0.0000,  0.0000,  0.0000,  0.0000,\n",
      "          0.0000,  0.0000,  0.0000,  0.0000,  0.0000],\n",
      "        [ 0.4374,  0.4604,  0.4846,  0.5101,  0.5370,  0.5652,  0.5500,  0.5031,\n",
      "          0.4118,  0.2638,  0.1347, -0.0132, -0.0592, -0.0455, -0.0621, -0.0423,\n",
      "         -0.0132, -0.0940, -0.1501, -0.2157, -0.2349]], grad_fn=<AddBackward0>)\n"
     ]
    },
    {
     "data": {
      "text/plain": [
       "tensor([[ 1.3046,  1.3521, -0.0702,  0.3614,  1.1125,  0.9353,  0.2910,  0.0519,\n",
       "         -0.1837,  0.9329, -0.7396,  0.4024,  0.4024,  0.4024,  0.4024,  0.4024,\n",
       "          0.4024,  0.4024,  0.4024,  0.4024,  0.4024],\n",
       "        [ 0.0406,  0.0216, -1.7962, -1.0340, -1.3007, -1.9535,  0.4024,  0.4024,\n",
       "          0.4024,  0.4024,  0.4024,  0.4024,  0.4024,  0.4024,  0.4024,  0.4024,\n",
       "          0.4024,  0.4024,  0.4024,  0.4024,  0.4024],\n",
       "        [ 1.5378,  0.7702,  0.5802,  1.0579,  1.9149,  1.7622,  1.1438,  0.6535,\n",
       "          0.4024,  0.4024,  0.4024,  0.4024,  0.4024,  0.4024,  0.4024,  0.4024,\n",
       "          0.4024,  0.4024,  0.4024,  0.4024,  0.4024],\n",
       "        [ 0.6986,  0.7142,  0.7306,  0.7478,  0.7660,  0.7852,  0.1962, -0.2517,\n",
       "         -0.8402, -1.5953, -1.3052, -1.5948, -0.2429,  0.6255,  0.1715,  0.6574,\n",
       "          0.8517, -0.4974, -0.3173, -0.4965,  0.1491]])"
      ]
     },
     "execution_count": 31,
     "metadata": {},
     "output_type": "execute_result"
    }
   ],
   "source": [
    "# since advantage = returns - values\n",
    "returns = advantages + values\n",
    "print(returns)\n",
    "\n",
    "# whitening simply subtracts the means and divides by the standard deviation to zero mean the data and \n",
    "# impose a std of 1\n",
    "\n",
    "advantages = masked_whiten(advantages, masks)\n",
    "advantages = advantages.detach()\n",
    "\n",
    "advantages"
   ]
  },
  {
   "cell_type": "markdown",
   "id": "8a14aeca",
   "metadata": {},
   "source": [
    "#### Clipping the Value Function (Critic)\n",
    "\n",
    "This implementation detail is not explained in detail in the PPO paper but when you look at the discussion here \n",
    "https://github.com/openai/baselines/issues/91 and the TensorFlow implementation here: https://github.com/openai/baselines/blob/master/baselines/ppo2/model.py\n",
    "\n",
    "The authors add that they\n",
    "\n",
    " *Clip the value function objective to reduce variability during Critic training*\n",
    "\n",
    "here is the actual code from openai baselines\n",
    "\n",
    "```python\n",
    "        # CALCULATE THE LOSS\n",
    "        # Total loss = Policy gradient loss - entropy * entropy coefficient + Value coefficient * value loss\n",
    "\n",
    "        # Clip the value to reduce variability during Critic training\n",
    "        # Get the predicted value\n",
    "        vpred = train_model.vf\n",
    "        vpredclipped = OLDVPRED + tf.clip_by_value(train_model.vf - OLDVPRED, - CLIPRANGE, CLIPRANGE)\n",
    "        # Unclipped value\n",
    "        vf_losses1 = tf.square(vpred - R)\n",
    "        # Clipped value\n",
    "        vf_losses2 = tf.square(vpredclipped - R)\n",
    "\n",
    "        vf_loss = .5 * tf.reduce_mean(tf.maximum(vf_losses1, vf_losses2))\n",
    "```\n",
    " and here are those same operations in PyTorch"
   ]
  },
  {
   "cell_type": "code",
   "execution_count": 36,
   "id": "669a58c7",
   "metadata": {},
   "outputs": [
    {
     "name": "stdout",
     "output_type": "stream",
     "text": [
      "0.2\n",
      "tensor([[ 0.0000,  0.0000,  2.0656,  1.4261,  0.3724,  0.6731,  1.6202,  1.9452,\n",
      "          2.2506,  0.6409,  3.0173,  0.0000,  0.0000,  0.0000,  0.0000,  0.0000,\n",
      "          0.0000,  0.0000,  0.0000,  0.0000,  0.0000],\n",
      "        [ 0.0000,  0.0000,  2.5223,  1.2907,  1.5591,  2.3511,  0.0000,  0.0000,\n",
      "          0.0000,  0.0000,  0.0000,  0.0000,  0.0000,  0.0000,  0.0000,  0.0000,\n",
      "          0.0000,  0.0000,  0.0000,  0.0000,  0.0000],\n",
      "        [ 0.0000,  1.1608,  1.8292,  1.1277, -0.0648,  0.4300,  1.5698,  2.3275,\n",
      "          0.0000,  0.0000,  0.0000,  0.0000,  0.0000,  0.0000,  0.0000,  0.0000,\n",
      "          0.0000,  0.0000,  0.0000,  0.0000,  0.0000],\n",
      "        [ 0.0000,  0.0000,  0.0000,  0.0000,  0.0000,  0.0000,  0.8546,  1.4692,\n",
      "          2.2470,  3.2142,  2.6567,  2.9365,  0.8939, -0.3749,  0.2790, -0.4189,\n",
      "         -0.6767,  1.2350,  0.9129,  1.1119,  0.1393]], grad_fn=<MulBackward0>)\n",
      "tensor([[ 0.1872,  0.9147,  2.1325,  1.1916,  1.1885, -0.1127,  1.5022,  1.6317,\n",
      "          0.8113,  0.9694,  1.0499,  0.8712,  1.0914,  0.8657,  0.8277,  1.1239,\n",
      "          0.9155,  0.3760,  1.1180,  1.0395,  0.7253]],\n",
      "       grad_fn=<SliceBackward0>)\n",
      "tensor([[ 0.1872,  0.2000,  2.1325,  1.2261,  0.5724,  0.4731,  1.5022,  1.7452,\n",
      "          2.0506,  0.8409,  2.8173,  0.2000,  0.2000,  0.2000,  0.2000,  0.2000,\n",
      "          0.2000,  0.2000,  0.2000,  0.2000,  0.2000],\n",
      "        [ 0.1872,  0.2000,  2.3223,  1.1916,  1.3591,  2.1511,  0.2000,  0.2000,\n",
      "          0.2000,  0.2000,  0.2000,  0.2000,  0.2000,  0.2000,  0.2000,  0.2000,\n",
      "          0.2000,  0.2000,  0.2000,  0.2000,  0.2000],\n",
      "        [ 0.1872,  0.9608,  2.0292,  1.1916,  0.1352,  0.2300,  1.5022,  2.1275,\n",
      "          0.2000,  0.2000,  0.2000,  0.2000,  0.2000,  0.2000,  0.2000,  0.2000,\n",
      "          0.2000,  0.2000,  0.2000,  0.2000,  0.2000],\n",
      "        [ 0.1872,  0.2000,  0.2000,  0.2000,  0.2000, -0.1127,  1.0546,  1.6317,\n",
      "          2.0470,  3.0142,  2.4567,  2.7365,  1.0914, -0.1749,  0.4790, -0.2189,\n",
      "         -0.4767,  1.0350,  1.1129,  1.0395,  0.3393]],\n",
      "       grad_fn=<MaximumBackward0>)\n"
     ]
    },
    {
     "data": {
      "text/plain": [
       "tensor(0.4286, dtype=torch.float64)"
      ]
     },
     "execution_count": 36,
     "metadata": {},
     "output_type": "execute_result"
    }
   ],
   "source": [
    "print(ppo_trainer.config.cliprange_value)\n",
    "print(values)\n",
    "print(vpreds)\n",
    "\n",
    "vpredclipped = \\\n",
    "    clip_by_value(vpreds, values - ppo_trainer.config.cliprange_value, values + ppo_trainer.config.cliprange_value)\n",
    "\n",
    "print(vpredclipped)\n",
    "\n",
    "# minimize the squared-error loss\n",
    "vf_losses1 = (vpreds - returns) ** 2\n",
    "vf_losses2 = (vpredclipped - returns) ** 2\n",
    "vf_loss = 0.5 * masked_mean(torch.max(vf_losses1, vf_losses2), masks)\n",
    "vf_clipfrac = masked_mean(torch.gt(vf_losses2, vf_losses1).double(), masks)\n",
    "\n",
    "vf_clipfrac"
   ]
  },
  {
   "cell_type": "markdown",
   "id": "e3903ac8",
   "metadata": {},
   "source": [
    "in the TRL version a value called `vf_clipfrac` is calculated to report what proportion of the losses ended up being clipped, so < 0.5 means that most of our our value function losses were within the range.\n",
    "\n",
    "#### Clipped Surrogate Objective\n",
    "\n",
    "The Clipped Surrogate Objective is the main discussion point in the PPO paper\n",
    "\n",
    "here is the main equation from the paper\n",
    "\n",
    "$$ r_t(\\theta) = \\frac{\\pi_\\theta (a_t|s_t)}{\\pi_{\\theta_{old}} (a_t|s_t)} $$\n",
    "\n",
    "\\begin{align}\n",
    "\\mathcal{L}^{CLIP}(\\theta) =\n",
    " \\mathbb{E}_{a_t, s_t \\sim \\pi_{\\theta{new}}} \\biggl[\n",
    "   min \\Bigl(r_t(\\theta) \\bar{A_t},\n",
    "             clip \\bigl(\n",
    "              r_t(\\theta), 1 - \\epsilon, 1 + \\epsilon\n",
    "             \\bigr) \\bar{A_t}\n",
    "   \\Bigr)\n",
    " \\biggr]\n",
    "\\end{align}\n",
    "\n",
    "In laymens terms, this says:\n",
    "\n",
    "r(theta)_t is the ratio, not reward, between the new policy and old policy. meaning, a ratio of 1 means they are the same with respect to this particular action and state, a ratio < 0.8 or > 1.2 means that the new policy is very different from the old, by a factor of 0.2 in this example.\n",
    "\n",
    "So in order to disincentivize radical noisy unconstructive updates to the new policy (This phrasing is from https://huggingface.co/blog/deep-rl-ppo), we update our policy only if:\n",
    "\n",
    "\n",
    "1. Our ratio is in the range `[1 - epsilon, 1 + epsilon]` \n",
    "\n",
    "OR\n",
    "\n",
    "2. Our ratio is outside the range, but the advantage leads to getting closer to the range. There are 2 cases:\n",
    "    \n",
    "    a. The ratio is below the range but the advantage is > 0\n",
    "    \n",
    "    b. The ratio is above the range but the advantage is < 0.\n",
    "\n",
    "\n",
    "<img src=\"https://huggingface.co/blog/assets/93_deep_rl_ppo/recap.jpg\" height=400 width=600>\n",
    "\n",
    "[Table from \"Towards Delivering a Coherent Self-Contained Explanation of Proximal Policy Optimization\" by Daniel Bick](https://fse.studenttheses.ub.rug.nl/25709/1/mAI_2021_BickD.pdf)\n",
    "\n",
    "here it is in baselines tensorflow\n",
    "\n",
    "```python\n",
    "        # Calculate ratio (pi current policy / pi old policy)\n",
    "        ratio = tf.exp(OLDNEGLOGPAC - neglogpac)\n",
    "\n",
    "        # Defining Loss = - J is equivalent to max J\n",
    "        pg_losses = -ADV * ratio\n",
    "\n",
    "        pg_losses2 = -ADV * tf.clip_by_value(ratio, 1.0 - CLIPRANGE, 1.0 + CLIPRANGE)\n",
    "\n",
    "        # Final PG loss\n",
    "        pg_loss = tf.reduce_mean(tf.maximum(pg_losses, pg_losses2))\n",
    "        approxkl = .5 * tf.reduce_mean(tf.square(neglogpac - OLDNEGLOGPAC))\n",
    "        clipfrac = tf.reduce_mean(tf.to_float(tf.greater(tf.abs(ratio - 1.0), CLIPRANGE)))\n",
    "\n",
    "        # Total loss\n",
    "        loss = pg_loss - entropy * ent_coef + vf_loss * vf_coef\n",
    "```\n",
    "\n",
    "and here in pytorch \n"
   ]
  },
  {
   "cell_type": "code",
   "execution_count": 39,
   "id": "f259d87c",
   "metadata": {},
   "outputs": [
    {
     "name": "stdout",
     "output_type": "stream",
     "text": [
      "tensor(-1.3624e-08, grad_fn=<DivBackward0>)\n"
     ]
    },
    {
     "data": {
      "text/plain": [
       "tensor(0., dtype=torch.float64)"
      ]
     },
     "execution_count": 39,
     "metadata": {},
     "output_type": "execute_result"
    }
   ],
   "source": [
    "ratio = torch.exp(new_logprobs - old_logprobs)\n",
    "pg_losses = -advantages * ratio\n",
    "pg_losses2 = \\\n",
    "    -advantages * torch.clamp(ratio, 1.0 - ppo_trainer.config.cliprange, 1.0 + ppo_trainer.config.cliprange)\n",
    "\n",
    "pg_loss = masked_mean(torch.max(pg_losses, pg_losses2), masks)\n",
    "pg_clipfrac = masked_mean(torch.gt(pg_losses2, pg_losses).double(), masks)\n",
    "\n",
    "print(pg_loss)\n",
    "pg_clipfrac"
   ]
  },
  {
   "cell_type": "markdown",
   "id": "872ffcbe",
   "metadata": {},
   "source": [
    "#### Combined Objective\n",
    "\n",
    "<img src=\"https://huggingface.co/blog/assets/93_deep_rl_ppo/ppo-objective.jpg\" height=400 width=600> \n",
    "\n",
    "The TRL authors leave out the entropy term because there does not seems to be a way to do it such that it gives much benefit at this time https://github.com/lvwerra/trl/issues/131, which is why in our case you see that after we return the policy gradient loss and value function loss from the function above, the final loss we backpropagate on is\n",
    "\n",
    "`loss = pg_loss + self.config.vf_coef * vf_loss`\n",
    "\n",
    "We maximize this objective, this is why there is a negative sign for the squared-error loss because maximizing the negative of this component is the same as minimizing the original component. "
   ]
  },
  {
   "cell_type": "code",
   "execution_count": null,
   "id": "da6d2eab",
   "metadata": {},
   "outputs": [],
   "source": []
  }
 ],
 "metadata": {
  "kernelspec": {
   "display_name": "Python 3 (ipykernel)",
   "language": "python",
   "name": "python3"
  },
  "language_info": {
   "codemirror_mode": {
    "name": "ipython",
    "version": 3
   },
   "file_extension": ".py",
   "mimetype": "text/x-python",
   "name": "python",
   "nbconvert_exporter": "python",
   "pygments_lexer": "ipython3",
   "version": "3.10.0"
  }
 },
 "nbformat": 4,
 "nbformat_minor": 5
}
