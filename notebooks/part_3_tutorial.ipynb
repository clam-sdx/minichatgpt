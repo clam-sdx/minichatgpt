{
 "cells": [
  {
   "cell_type": "code",
   "execution_count": 13,
   "id": "0a1ceb98",
   "metadata": {},
   "outputs": [
    {
     "name": "stdout",
     "output_type": "stream",
     "text": [
      "The autoreload extension is already loaded. To reload it, use:\n",
      "  %reload_ext autoreload\n",
      "number of GPUs: 2\n"
     ]
    },
    {
     "data": {
      "text/plain": [
       "0"
      ]
     },
     "execution_count": 13,
     "metadata": {},
     "output_type": "execute_result"
    }
   ],
   "source": [
    "%load_ext autoreload\n",
    "%autoreload 2\n",
    "\n",
    "import torch\n",
    "print ('number of GPUs:', torch.cuda.device_count())\n",
    "\n",
    "from tqdm.notebook import tqdm\n",
    "\n",
    "from minichatgpt.experiments.imdb import config, sent_kwargs\n",
    "from minichatgpt import Lab\n",
    "from minichatgpt.processdata.collators import imdb_dataloader_collator\n",
    "\n",
    "# For the sake of the speed of this demonstration, the batch_size is temporarily decreased from 256 to 4\n",
    "batch_size = 4\n",
    "config.batch_size = batch_size\n",
    "config.forward_batch_size = batch_size//2\n",
    "config.seed"
   ]
  },
  {
   "cell_type": "code",
   "execution_count": null,
   "id": "99ac58bb",
   "metadata": {},
   "outputs": [],
   "source": [
    "lab = Lab(config)\n",
    "\n",
    "dataset = lab.build_dataset(dataset_name=\"imdb\",input_min_text_length=2,input_max_text_length=8)\n",
    "\n",
    "new_policy, old_policy, tokenizer = lab.init_policies_tokenizer()\n",
    "\n",
    "lab.set_generation_config(do_sample=True,output_min_length=4,output_max_length=16,pad_token_id=tokenizer.eos_token_id)\n",
    "\n",
    "ppo_trainer = lab.init_ppo_trainer(\n",
    "    config, \n",
    "    new_policy, \n",
    "    old_policy, \n",
    "    tokenizer, \n",
    "    dataset, \n",
    "    dataloader_collator = imdb_dataloader_collator,\n",
    ")\n",
    "\n",
    "reward_model = lab.init_reward_model()"
   ]
  },
  {
   "cell_type": "code",
   "execution_count": 12,
   "id": "28ac6087",
   "metadata": {},
   "outputs": [
    {
     "name": "stdout",
     "output_type": "stream",
     "text": [
      "cuda:0\n",
      "cuda:0\n"
     ]
    }
   ],
   "source": [
    "print(new_policy.pretrained_model.device)\n",
    "print(new_policy.v_head.summary.weight.device)"
   ]
  },
  {
   "cell_type": "code",
   "execution_count": 14,
   "id": "4517a0ef",
   "metadata": {},
   "outputs": [
    {
     "data": {
      "application/vnd.jupyter.widget-view+json": {
       "model_id": "6914067e8cad4402a7192aef2c1928a0",
       "version_major": 2,
       "version_minor": 0
      },
      "text/plain": [
       "0it [00:00, ?it/s]"
      ]
     },
     "metadata": {},
     "output_type": "display_data"
    },
    {
     "name": "stderr",
     "output_type": "stream",
     "text": [
      "You're using a GPT2TokenizerFast tokenizer. Please note that with a fast tokenizer, using the `__call__` method is faster than using a method to encode the text followed by a call to the `pad` method to get a padded encoding.\n"
     ]
    },
    {
     "name": "stdout",
     "output_type": "stream",
     "text": [
      "tensor([[0.8712, 0.7366, 1.3744, 0.0074, 0.1823, 0.5760, 1.2990]],\n",
      "       device='cuda:0') 0.2\n",
      "tensor([[-0.1447,  0.1331, -2.1336, -1.6075, -1.5900,  1.6841,  0.1250, -1.1569,\n",
      "          2.1941]], device='cuda:0') 0.2\n",
      "tensor([[ 2.8135, -0.7756,  0.8125, -0.3667]], device='cuda:0') 0.2\n",
      "tensor([[ 1.1719,  1.1426,  0.3003,  0.0666,  0.6122, -0.7323,  1.8992,  1.2045,\n",
      "         -0.6964, -0.0479,  0.7701, -0.4125,  0.3040,  0.6388,  0.7322]],\n",
      "       device='cuda:0') 0.2\n",
      "tensor([[0.8712, 0.7366, 1.3744, 0.0074, 0.1823, 0.5760, 1.2990]],\n",
      "       device='cuda:0') 0.2\n",
      "tensor([[-0.1447,  0.1331, -2.1336, -1.6075, -1.5900,  1.6841,  0.1250, -1.1569,\n",
      "          2.1941]], device='cuda:0') 0.2\n",
      "tensor([[ 1.1719,  1.1426,  0.3003,  0.0666,  0.6122, -0.7323,  1.8992,  1.2045,\n",
      "         -0.6964, -0.0479,  0.7701, -0.4125,  0.3040,  0.6388,  0.7322]],\n",
      "       device='cuda:0') 0.2\n",
      "tensor([[ 2.8135, -0.7756,  0.8125, -0.3667]], device='cuda:0') 0.2\n",
      "tensor([[0.8712, 0.7366, 1.3744, 0.0074, 0.1823, 0.5760, 1.2990]],\n",
      "       device='cuda:0') 0.2\n",
      "tensor([[ 1.1719,  1.1426,  0.3003,  0.0666,  0.6122, -0.7323,  1.8992,  1.2045,\n",
      "         -0.6964, -0.0479,  0.7701, -0.4125,  0.3040,  0.6388,  0.7322]],\n",
      "       device='cuda:0') 0.2\n",
      "tensor([[-0.1447,  0.1331, -2.1336, -1.6075, -1.5900,  1.6841,  0.1250, -1.1569,\n",
      "          2.1941]], device='cuda:0') 0.2\n",
      "tensor([[ 2.8135, -0.7756,  0.8125, -0.3667]], device='cuda:0') 0.2\n",
      "tensor([[ 1.1719,  1.1426,  0.3003,  0.0666,  0.6122, -0.7323,  1.8992,  1.2045,\n",
      "         -0.6964, -0.0479,  0.7701, -0.4125,  0.3040,  0.6388,  0.7322]],\n",
      "       device='cuda:0') 0.2\n",
      "tensor([[0.8712, 0.7366, 1.3744, 0.0074, 0.1823, 0.5760, 1.2990]],\n",
      "       device='cuda:0') 0.2\n",
      "tensor([[ 2.8135, -0.7756,  0.8125, -0.3667]], device='cuda:0') 0.2\n",
      "tensor([[-0.1447,  0.1331, -2.1336, -1.6075, -1.5900,  1.6841,  0.1250, -1.1569,\n",
      "          2.1941]], device='cuda:0') 0.2\n"
     ]
    }
   ],
   "source": [
    "for batch_step, batch in tqdm(enumerate(ppo_trainer.dataloader)):\n",
    "    \n",
    "    queries = batch['input_ids']\n",
    "    \n",
    "    #### Get response from gpt2\n",
    "    responses = []\n",
    "    for query in queries:\n",
    "        gen_len = lab.output_length_sampler()\n",
    "        lab.generation_kwargs[\"max_new_tokens\"] = gen_len\n",
    "        response = ppo_trainer.generate(query, **lab.generation_kwargs)\n",
    "        responses.append(response.squeeze()[-gen_len:])\n",
    "        \n",
    "    batch['response'] = [tokenizer.decode(r.squeeze()) for r in responses]\n",
    "    \n",
    "    #### Compute sentiment score\n",
    "    texts = [q + r for q,r in zip(batch['query'], batch['response'])]\n",
    "    pipe_outputs = lab.reward_model(texts, **sent_kwargs)\n",
    "    rewards = [torch.tensor(output[1][\"score\"]) for output in pipe_outputs]\n",
    "    \n",
    "    #### Run PPO step \n",
    "    stats = ppo_trainer.step(queries, responses, rewards)\n",
    "    ppo_trainer.log_stats(stats, batch, rewards)\n",
    "    \n",
    "    break"
   ]
  },
  {
   "cell_type": "code",
   "execution_count": null,
   "id": "589f3197",
   "metadata": {},
   "outputs": [],
   "source": []
  }
 ],
 "metadata": {
  "kernelspec": {
   "display_name": "Python 3",
   "language": "python",
   "name": "python3"
  },
  "language_info": {
   "codemirror_mode": {
    "name": "ipython",
    "version": 3
   },
   "file_extension": ".py",
   "mimetype": "text/x-python",
   "name": "python",
   "nbconvert_exporter": "python",
   "pygments_lexer": "ipython3",
   "version": "3.7.5"
  }
 },
 "nbformat": 4,
 "nbformat_minor": 5
}
