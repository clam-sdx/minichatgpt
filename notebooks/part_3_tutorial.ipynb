{
 "cells": [
  {
   "cell_type": "code",
   "execution_count": 1,
   "id": "52adb752",
   "metadata": {},
   "outputs": [
    {
     "name": "stderr",
     "output_type": "stream",
     "text": [
      "/usr/bin/nvidia-modprobe: unrecognized option: \"-s\"\n",
      "\n",
      "ERROR: Invalid commandline, please run `/usr/bin/nvidia-modprobe --help` for usage information.\n",
      "\n",
      "\n",
      "/usr/bin/nvidia-modprobe: unrecognized option: \"-s\"\n",
      "\n",
      "ERROR: Invalid commandline, please run `/usr/bin/nvidia-modprobe --help` for usage information.\n",
      "\n",
      "\n"
     ]
    },
    {
     "name": "stdout",
     "output_type": "stream",
     "text": [
      "number of GPUs: 2\n"
     ]
    },
    {
     "data": {
      "text/plain": [
       "0"
      ]
     },
     "execution_count": 1,
     "metadata": {},
     "output_type": "execute_result"
    }
   ],
   "source": [
    "%load_ext autoreload\n",
    "%autoreload 2\n",
    "%matplotlib inline\n",
    "\n",
    "import torch\n",
    "print ('number of GPUs:', torch.cuda.device_count())\n",
    "\n",
    "from tqdm import tqdm\n",
    "from matplotlib import pyplot as plt \n",
    "\n",
    "from minichatgpt.experiments.imdb import config, sent_kwargs\n",
    "from minichatgpt import Lab\n",
    "from minichatgpt.processdata.collators import imdb_dataloader_collator\n",
    "\n",
    "# For the sake of the speed of this demonstration, the batch_size is temporarily decreased from 256 to 4\n",
    "batch_size = 128\n",
    "config.batch_size = batch_size\n",
    "config.forward_batch_size = batch_size//2\n",
    "config.seed"
   ]
  },
  {
   "cell_type": "code",
   "execution_count": null,
   "id": "84bda234",
   "metadata": {},
   "outputs": [],
   "source": [
    "lab = Lab(config)\n",
    "\n",
    "dataset = lab.build_dataset(dataset_name=\"imdb\",input_min_text_length=2,input_max_text_length=8)\n",
    "\n",
    "new_policy, old_policy, tokenizer = lab.init_policies_tokenizer()\n",
    "\n",
    "lab.set_generation_config(do_sample=True,output_min_length=4,output_max_length=16,pad_token_id=tokenizer.eos_token_id)\n",
    "\n",
    "ppo_trainer = lab.init_ppo_trainer(\n",
    "    config, \n",
    "    new_policy, \n",
    "    old_policy, \n",
    "    tokenizer, \n",
    "    dataset, \n",
    "    dataloader_collator = imdb_dataloader_collator,\n",
    ")\n",
    "\n",
    "reward_model = lab.init_reward_model()"
   ]
  },
  {
   "cell_type": "code",
   "execution_count": null,
   "id": "92dddae8",
   "metadata": {},
   "outputs": [],
   "source": [
    "returns_list = []\n",
    "rewards_list = []\n",
    "print(new_policy.pretrained_model.device)\n",
    "print(new_policy.v_head)\n",
    "new_policy.v_head.summary.to('cuda:1')\n",
    "print(new_policy.v_head.summary.weight.device)"
   ]
  },
  {
   "cell_type": "code",
   "execution_count": null,
   "id": "d7dc5a53",
   "metadata": {},
   "outputs": [],
   "source": [
    "new_policy.pretrained_model.parallelize()"
   ]
  },
  {
   "cell_type": "code",
   "execution_count": null,
   "id": "5956b881",
   "metadata": {},
   "outputs": [],
   "source": [
    "lab.reward_model.device"
   ]
  },
  {
   "cell_type": "code",
   "execution_count": null,
   "id": "15104fc4",
   "metadata": {},
   "outputs": [],
   "source": [
    "for batch_step, batch in tqdm(enumerate(ppo_trainer.dataloader)):\n",
    "    \n",
    "    queries = batch['input_ids']\n",
    "    \n",
    "    #### Get response from gpt2\n",
    "    responses = []\n",
    "    for query in queries:\n",
    "        gen_len = lab.output_length_sampler()\n",
    "        lab.generation_kwargs[\"max_new_tokens\"] = gen_len\n",
    "        response = ppo_trainer.generate(query, **lab.generation_kwargs)\n",
    "        responses.append(response.squeeze()[-gen_len:])\n",
    "        \n",
    "    batch['response'] = [tokenizer.decode(r.squeeze()) for r in responses]\n",
    "    \n",
    "    #### Compute sentiment score\n",
    "    texts = [q + r for q,r in zip(batch['query'], batch['response'])]\n",
    "    pipe_outputs = lab.reward_model(texts, **sent_kwargs)\n",
    "    rewards = [torch.tensor(output[1][\"score\"]) for output in pipe_outputs]\n",
    "    rewards_list.append(torch.mean(rewards).item())\n",
    "    rewards = [t.to(new_policy.pretrained_model.device) for t in rewards]\n",
    "    \n",
    "    #### Run PPO step \n",
    "    stats = ppo_trainer.step(queries, responses, rewards)\n",
    "    ppo_trainer.log_stats(stats, batch, rewards)\n",
    "    \n",
    "    #break\n",
    "    \n",
    "    returns_list.append(stats['ppo/returns/mean'])"
   ]
  },
  {
   "cell_type": "code",
   "execution_count": null,
   "id": "e6a91806",
   "metadata": {},
   "outputs": [],
   "source": [
    "plt.figure()\n",
    "plt.xlabel('Training Iterations (minibatches)', fontsize=25)\n",
    "plt.ylabel('Mean Sum of Rewards (per Sequence)', fontsize=25)\n",
    "plt.plot(returns_list, label='returns')\n",
    "plt.plot(rewards_list, label='rewards')\n",
    "plt.legend()\n",
    "plt.show()"
   ]
  },
  {
   "cell_type": "code",
   "execution_count": null,
   "id": "3baf15ea",
   "metadata": {},
   "outputs": [],
   "source": []
  }
 ],
 "metadata": {
  "kernelspec": {
   "display_name": "Python 3",
   "language": "python",
   "name": "python3"
  },
  "language_info": {
   "codemirror_mode": {
    "name": "ipython",
    "version": 3
   },
   "file_extension": ".py",
   "mimetype": "text/x-python",
   "name": "python",
   "nbconvert_exporter": "python",
   "pygments_lexer": "ipython3",
   "version": "3.7.5"
  }
 },
 "nbformat": 4,
 "nbformat_minor": 5
}
