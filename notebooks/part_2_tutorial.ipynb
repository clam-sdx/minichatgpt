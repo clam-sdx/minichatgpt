{
 "cells": [
  {
   "cell_type": "code",
   "execution_count": 1,
   "id": "61c92b2e",
   "metadata": {},
   "outputs": [],
   "source": [
    "%load_ext autoreload\n",
    "%autoreload 2"
   ]
  },
  {
   "cell_type": "code",
   "execution_count": 21,
   "id": "ffbc2754",
   "metadata": {},
   "outputs": [],
   "source": [
    "import torch\n",
    "\n",
    "from minichatgpt.experiments.imdb import config, sent_kwargs\n",
    "from minichatgpt import PPOTrainer, Lab\n",
    "\n",
    "# for the loss calculation\n",
    "from minichatgpt.core import whiten, logprobs_from_logits"
   ]
  },
  {
   "cell_type": "code",
   "execution_count": 3,
   "id": "32c0cc6d",
   "metadata": {},
   "outputs": [],
   "source": [
    "# For the sake of the speed of this demonstration, the batch_size is temporarily decreased from 256 to 4\n",
    "batch_size = 4\n",
    "config.batch_size = batch_size\n",
    "config.forward_batch_size = batch_size//2"
   ]
  },
  {
   "cell_type": "code",
   "execution_count": 4,
   "id": "7ea44cad",
   "metadata": {},
   "outputs": [
    {
     "name": "stderr",
     "output_type": "stream",
     "text": [
      "Found cached dataset imdb (/Users/carson/.cache/huggingface/datasets/imdb/plain_text/1.0.0/2fdd8b9bcadd6e7055e742a706876ba43f19faee861df134affd7a3f60fc38a1)\n",
      "Loading cached processed dataset at /Users/carson/.cache/huggingface/datasets/imdb/plain_text/1.0.0/2fdd8b9bcadd6e7055e742a706876ba43f19faee861df134affd7a3f60fc38a1/cache-2bd6a5d7d39a840d.arrow\n",
      "Loading cached processed dataset at /Users/carson/.cache/huggingface/datasets/imdb/plain_text/1.0.0/2fdd8b9bcadd6e7055e742a706876ba43f19faee861df134affd7a3f60fc38a1/cache-2ecf25d24c93f132.arrow\n"
     ]
    }
   ],
   "source": [
    "lab = Lab(config)\n",
    "dataset = lab.build_dataset(dataset_name=\"imdb\",input_min_text_length=2,input_max_text_length=8)\n",
    "new_policy, old_policy, tokenizer = lab.init_policies_tokenizer()\n",
    "lab.set_generation_config(do_sample=True,output_min_length=4,output_max_length=16,pad_token_id=tokenizer.eos_token_id)\n",
    "ppo_trainer = lab.init_ppo_trainer(config, new_policy, old_policy, tokenizer, dataset)\n",
    "reward_model = lab.init_reward_model()"
   ]
  },
  {
   "cell_type": "code",
   "execution_count": 5,
   "id": "8b56fd60",
   "metadata": {},
   "outputs": [
    {
     "name": "stderr",
     "output_type": "stream",
     "text": [
      "/Users/carson/projects/minichatgpt/venv/lib/python3.10/site-packages/transformers/pipelines/text_classification.py:104: UserWarning: `return_all_scores` is now deprecated,  if want a similar funcionality use `top_k=None` instead of `return_all_scores=True` or `top_k=1` instead of `return_all_scores=False`.\n",
      "  warnings.warn(\n"
     ]
    }
   ],
   "source": [
    "for batch_step, batch in enumerate(ppo_trainer.dataloader):\n",
    "    \n",
    "    queries = batch['input_ids']\n",
    "    \n",
    "    #### Get response from gpt2\n",
    "    responses = []\n",
    "    for query in queries:\n",
    "        gen_len = lab.output_length_sampler()\n",
    "        lab.generation_kwargs[\"max_new_tokens\"] = gen_len\n",
    "        response = ppo_trainer.generate(query, **lab.generation_kwargs)\n",
    "        responses.append(response.squeeze()[-gen_len:])\n",
    "\n",
    "    batch['response'] = [tokenizer.decode(r.squeeze()) for r in responses]\n",
    "\n",
    "    #### Compute sentiment score\n",
    "    texts = [q + r for q,r in zip(batch['query'], batch['response'])]\n",
    "    pipe_outputs = lab.reward_model(texts, **sent_kwargs)\n",
    "    rewards = [torch.tensor(output[1][\"score\"]) for output in pipe_outputs]\n",
    "    break\n",
    "    \n",
    "queries, responses, scores = ppo_trainer._step_safety_checker(batch_size, queries, responses, rewards)"
   ]
  },
  {
   "cell_type": "code",
   "execution_count": 6,
   "id": "05b71eb2",
   "metadata": {},
   "outputs": [
    {
     "name": "stdout",
     "output_type": "stream",
     "text": [
      "[tensor([-0.0000, -0.0000, -0.0000, -0.0000, -0.0000, -0.0000, -0.0000, -0.0000, 1.3289]), tensor([-0.0000, -0.0000, -0.0000, -1.8032]), tensor([-0.0000, -0.0000, -0.0000, -0.0000, -0.0000, -0.0000, 0.8134]), tensor([-0.0000, -0.0000, -0.0000, -0.0000, -0.0000, -0.0000, -0.0000, -0.0000, -0.0000,\n",
      "        -0.0000, -0.0000, -0.0000, -0.0000, -0.0000, 2.2469])]\n"
     ]
    }
   ],
   "source": [
    "logprobs, ref_logprobs, values = ppo_trainer.batched_forward_pass(queries, responses)\n",
    "rewards, non_score_reward = ppo_trainer.compute_rewards(scores, logprobs, ref_logprobs)\n",
    "\n",
    "print(rewards)"
   ]
  },
  {
   "cell_type": "code",
   "execution_count": 7,
   "id": "0777af19",
   "metadata": {},
   "outputs": [
    {
     "data": {
      "text/plain": [
       "{'loss/policy': tensor(6.4572e-08, grad_fn=<MeanBackward0>),\n",
       " 'loss/value': tensor(5.9807, grad_fn=<MulBackward0>),\n",
       " 'loss/total': tensor(0.5981, grad_fn=<AddBackward0>),\n",
       " 'policy/entropy': tensor(4.1144, grad_fn=<MeanBackward0>),\n",
       " 'policy/approxkl': tensor(0., grad_fn=<MulBackward0>),\n",
       " 'policy/policykl': tensor(0., grad_fn=<MeanBackward0>),\n",
       " 'policy/clipfrac': tensor(0., dtype=torch.float64),\n",
       " 'policy/advantages': tensor([[ 1.1490,  0.7621, -1.6960,  0.1077, -0.8450, -0.8453, -0.1017,  0.1462,\n",
       "           1.3230]]),\n",
       " 'policy/advantages_mean': tensor(-6.4572e-08),\n",
       " 'policy/ratio': tensor([[1., 1., 1., 1., 1., 1., 1., 1., 1.]], grad_fn=<ExpBackward0>),\n",
       " 'returns/mean': tensor(0.7381),\n",
       " 'returns/var': tensor(0.1209),\n",
       " 'val/vpred': tensor(-1.7247, grad_fn=<MeanBackward0>),\n",
       " 'val/error': tensor(6.7717, grad_fn=<MeanBackward0>),\n",
       " 'val/clipfrac': tensor(0.5556, dtype=torch.float64),\n",
       " 'val/mean': tensor(-2.1783),\n",
       " 'val/var': tensor(1.5407)}"
      ]
     },
     "execution_count": 7,
     "metadata": {},
     "output_type": "execute_result"
    }
   ],
   "source": [
    "idx = list(range(config.batch_size))\n",
    "\n",
    "# train_minibatch()\n",
    "\n",
    "for idx in range(config.batch_size):\n",
    "    \n",
    "    loss_p, loss_v, train_stats = ppo_trainer.loss(\n",
    "        logprobs[idx].unsqueeze(0),\n",
    "        values[idx].unsqueeze(0),\n",
    "        rewards[idx].unsqueeze(0),\n",
    "        queries[idx].unsqueeze(0),\n",
    "        responses[idx].unsqueeze(0),\n",
    "        torch.cat([queries[idx],responses[idx]]).unsqueeze(0),\n",
    "    )\n",
    "    \n",
    "    loss = loss_p + loss_v\n",
    "    \n",
    "    ppo_trainer.optimizer.zero_grad()\n",
    "    ppo_trainer.accelerator.backward(loss)\n",
    "    ppo_trainer.optimizer.step()\n",
    "    \n",
    "    break\n",
    "    \n",
    "train_stats"
   ]
  },
  {
   "cell_type": "code",
   "execution_count": 8,
   "id": "d3d4434e",
   "metadata": {},
   "outputs": [
    {
     "name": "stdout",
     "output_type": "stream",
     "text": [
      "[tensor([-0.0897, -0.1341,  0.1444, -0.0504,  0.4438,  0.0339, -0.0024,  0.0067,\n",
      "         1.2464]), tensor([ 2.7633e-03,  4.2390e-04,  6.7606e-04, -1.8118e+00]), tensor([ 1.4491e-03, -3.0204e-03,  2.4209e-03,  2.3418e-03, -7.4482e-05,\n",
      "        -2.3861e-03,  8.0907e-01]), tensor([-2.6601e-03, -1.9506e-03,  5.0774e-03, -8.6560e-04, -5.9621e-04,\n",
      "         2.8877e-04,  5.1476e-03, -1.1687e-04, -4.7680e-03, -2.9914e-03,\n",
      "        -6.0378e-03,  2.9578e-03, -7.0558e-04, -1.2815e-02,  2.2435e+00])]\n"
     ]
    }
   ],
   "source": [
    "logprobs, ref_logprobs, values = ppo_trainer.batched_forward_pass(queries, responses)\n",
    "rewards, non_score_reward = ppo_trainer.compute_rewards(scores, logprobs, ref_logprobs)\n",
    "print(rewards)"
   ]
  },
  {
   "cell_type": "code",
   "execution_count": 9,
   "id": "f286923b",
   "metadata": {},
   "outputs": [],
   "source": [
    "old_logprobs_ = logprobs[idx].unsqueeze(0)\n",
    "values_ = values[idx].unsqueeze(0)\n",
    "rewards_ = rewards[idx].unsqueeze(0)\n",
    "queries_ = queries[idx].unsqueeze(0)\n",
    "responses_ = responses[idx].unsqueeze(0)\n",
    "model_input_ = torch.cat([queries[idx],responses[idx]]).unsqueeze(0)"
   ]
  },
  {
   "cell_type": "code",
   "execution_count": 10,
   "id": "1b18983d",
   "metadata": {},
   "outputs": [
    {
     "name": "stdout",
     "output_type": "stream",
     "text": [
      "lambda 0.95\n",
      "gamma 1\n"
     ]
    }
   ],
   "source": [
    "print('lambda', ppo_trainer.config.lam)\n",
    "print('gamma',  ppo_trainer.config.gamma)"
   ]
  },
  {
   "cell_type": "markdown",
   "id": "16554a02",
   "metadata": {},
   "source": [
    "#### Generalized advantage estimator\n",
    "\n",
    "The term lastgaelam maens last [generalized advantage estimator](https://arxiv.org/pdf/1506.02438.pdf) GAE lambda.\n",
    "There are many resources already for explaining what the [Adavantage](https://huggingface.co/blog/deep-rl-a2c) function is, so I will not go into it too much. In the equation below $A^{(k)}_{t}$ is the advantage that represents \"Compared to the average reward, or expected reward, reward we should get from state $ s_{t} $  till the end, How much more or less did we get specifically as a result of taking the action we took at step t rather than all the other actions we could have taken, not including the actions we took after or before step t\"\n",
    "\n",
    "##### Advantage = Returns - Values\n",
    "\n",
    "$A^{(1)}_{t}$ does this by incorporating only the actual reward r_t we got immediately after taking action $ a_{t} $ in $ s_{t} $ + $\\gamma V(s_{t+1})$ to estimate the rest of the future - $V(s_t)$, the expected total rewards averaged across all the action options at state s_t, good and bad. \n",
    "\n",
    "\\begin{align}\n",
    "\\hat{A}_t^{(1)} &= r_t + \\gamma V(s_{t+1}) - V(s_t) \\\\\n",
    "\\hat{A}_t^{(2)} &= r_t + \\gamma r_{t+1} + \\gamma^2 V(s_{t+2}) - V(s_t) \\\\\n",
    "\\cdots &= \\cdots \\\\ \n",
    "\\hat{A}_t^{(\\infty)} &= r_t + \\gamma r_{t+1} + \\gamma^2 r_{t+2} + \\cdots - V(s_t)\n",
    "\\end{align}\n",
    "\n",
    "$A^{(2)}_{t}$ is similar to $A^{(1)}_{t}$, only we incorporate 2 steps of actual reward in the future then estimate the rest, and so on and so on.\n",
    "\n",
    "\n",
    "lam, or lambda $ \\lambda $ is the weight parameter, it is taught intuitively here in this other lesson about [ Exponentially Weighted Moving Average](https://medium.com/mlearning-ai/exponentially-weighted-average-5eed00181a09) (EWMA), only in this lesson it is called $ \\beta $. Basically, the higher $ \\lambda $ the more you are placing weight on values other than the most immediate one. \n",
    "\n",
    "<img src=\"https://miro.medium.com/v2/resize:fit:1400/format:webp/1*u3MIYRnLguhjvM0tr72wBA.png\" width=600 height=400>\n",
    "\n",
    "What you see is that lower the $ \\beta $ is, the more noisy the signal. Thats because the lower the beta the less we are taking into account the more stable past values, instead changing the moving avareg alot based on the most recent volatile new piece of data. With higher beta we are weighing the past known and now static values more heavily, thereby inducing a smoother curve.\n",
    "\n",
    "However, and im sorry for doing this, but with respect to GAE, the situation is reversed int both ways, from the example shown in the graph. So why did I show it to you? Well the example is easier to understand and the relationship is similar only reversed, and the relationship is harder to describe. But once you see that relationship, I think its easier to take the inverse of a relatshiption you do understand, than to explain the relationship is a more confusing setting. \n",
    "\n",
    "Whereas in typical times series EWMA, the most immediate data is the most recently data in the past and the other data is the data in the farther past, in GAE the most immediate data is the next reward and the other data is the rewards we are estimating we might get in the future, via the state value function V(s). The $ \\lambda $ is therefore higher when you want to weight these far future estimates higher at the expense of the ones in your immediate future which are more certain. \n",
    "\n",
    "$\\hat{A}_t^{GAE(\\gamma,\\lambda)}$  is the generalized advantage estimator. This [Blog on GAE](https://danieltakeshi.github.io/2017/04/02/notes-on-the-generalized-advantage-estimation-paper/) explains it well. The higher lambda is the more future steps (k's) you are taking into account\n",
    "\n",
    "\\begin{align}\n",
    "\\hat{A}_t^{GAE(\\gamma,\\lambda)} &= (1-\\lambda)\\Big(\\hat{A}_{t}^{(1)} + \\lambda \\hat{A}_{t}^{(2)} + \\lambda^2 \\hat{A}_{t}^{(3)} + \\cdots \\Big) \\\\\n",
    "&= (1-\\lambda)\\Big(\\delta_t^V + \\lambda(\\delta_t^V + \\gamma \\delta_{t+1}^V) + \\lambda^2(\\delta_t^V + \\gamma \\delta_{t+1}^V + \\gamma^2 \\delta_{t+2}^V)+ \\cdots \\Big)  \\\\\n",
    "&= (1-\\lambda)\\Big( \\delta_t^V(1+\\lambda+\\lambda^2+\\cdots) + \\gamma\\delta_{t+1}^V(\\lambda+\\lambda^2+\\cdots) + \\cdots \\Big) \\\\\n",
    "&= (1-\\lambda)\\left(\\delta_t^V \\frac{1}{1-\\lambda} + \\gamma \\delta_{t+1}^V\\frac{\\lambda}{1-\\lambda} + \\cdots\\right) \\\\\n",
    "&= \\sum_{l=0}^\\infty (\\gamma \\lambda)^l \\delta_{t+l}^{V}\n",
    "\\end{align}\n",
    "\n",
    "***\n",
    "The tradeoff here is that the estimators $A^{(k)}_{t}$ with small k have low variance but high bias, whereas those with large k have low bias but high variance. Why?\n",
    "\n",
    "I think of it based on the number of terms. With small k, we have fewer terms to sum over (which means low variance). However, the bias is relatively large because it does not make use of extra “exact” information with r_K for K > k\n",
    "\n",
    "Here’s another way to think of it as emphasized in the paper: V(s_t)\n",
    "is constant among the estimator class, so it does not affect the relative bias or variance among the estimators: differences arise entirely due to the k -step returns.\n",
    "***\n",
    "\n",
    "In RL and machine learning, we are calling this noise, the variance, as in the bias variance tradeoff.\n",
    "\n",
    "I like to sum this up as \"the L in lambda for for longtermism\" and depending on the choices we make today, there are many variants of the future we could end up in, so larges L means more longterms and more variance. \n",
    "\n",
    "Basically like many tradeoffs there exists a point of balance for your particular problem. Like in the below example, you get bad learning not only when lambda is too high, but also when it is too low.\n",
    "\n",
    "<img src=\"https://d3i71xaburhd42.cloudfront.net/ca11ba7b2991fe07b7a99b3a3aeba2486ed36261/9-Figure4-1.png\">\n",
    "\n",
    "Im going to rewrite the set of equations above to better mirror the code that we will implement below;\n",
    "\n",
    "first lets add the lambda term\n",
    "\n",
    "\\begin{align}\n",
    "\\hat{A}_t^{(1)} &= \\delta^{V}_{t} = r_t + \\gamma V(s_{t+1}) - V(s_t) \\\\\n",
    "\\hat{A}_t^{(2)} &= \\delta^{V}_{t} + (\\gamma \\lambda) \\delta^{V}_{t+1} \\\\\n",
    "\\hat{A}_t^{(k)} &= \\sum_{l=0}^{l=k} (\\gamma \\lambda)^l \\delta_{t+l}^{V}\n",
    "\\end{align}\n",
    "\n",
    "next, rewrite ${A}_t^{(T - t)}$ in terms of t + 1, so that we can calculate the GAE for each\n",
    "step t in the sequence from the last T to the first 0:\n",
    "\n",
    "\\begin{align}\n",
    "\\delta^{V}_{t} &= r_t + \\gamma V(s_{t+1}) - V(s_t) \\\\\n",
    "\\hat{A}_t^{(T - t)} &= \\delta^{V}_{t} + (\\gamma \\lambda) \\delta^{V}_{t+1} \\\\\n",
    "\\end{align}\n",
    "\n",
    "The above two expressions correspond to line 2 and 3 below respectively"
   ]
  },
  {
   "cell_type": "code",
   "execution_count": 11,
   "id": "9c9c65b5",
   "metadata": {},
   "outputs": [
    {
     "name": "stdout",
     "output_type": "stream",
     "text": [
      "tensor([[-0.0897, -0.1341,  0.1444, -0.0504,  0.4438,  0.0339, -0.0024,  0.0067,\n",
      "          1.2464]]) torch.Size([1, 9])\n"
     ]
    }
   ],
   "source": [
    "print(rewards_, rewards_.shape)"
   ]
  },
  {
   "cell_type": "code",
   "execution_count": 12,
   "id": "73ef43e1",
   "metadata": {},
   "outputs": [
    {
     "name": "stdout",
     "output_type": "stream",
     "text": [
      "tensor([[-3.8456, -3.5340, -0.6305, -3.5342, -1.4403, -1.1644, -1.7115,  0.6362,\n",
      "         -1.5782]]) torch.Size([1, 9])\n"
     ]
    }
   ],
   "source": [
    "print(values_, values_.shape)"
   ]
  },
  {
   "cell_type": "code",
   "execution_count": 13,
   "id": "8bda2fa1",
   "metadata": {},
   "outputs": [
    {
     "name": "stdout",
     "output_type": "stream",
     "text": [
      "gen_len 9\n"
     ]
    }
   ],
   "source": [
    "# rewards_ and values_\n",
    "gen_len = rewards_.shape[-1]\n",
    "print('gen_len', gen_len)"
   ]
  },
  {
   "cell_type": "code",
   "execution_count": 14,
   "id": "aedd6bab",
   "metadata": {},
   "outputs": [
    {
     "name": "stdout",
     "output_type": "stream",
     "text": [
      "8 0.0 tensor([2.8246])\n",
      "7 tensor([-1.5782]) tensor([0.4757])\n",
      "6 tensor([0.6362]) tensor([2.7972])\n",
      "5 tensor([-1.7115]) tensor([2.1442])\n",
      "4 tensor([-1.1644]) tensor([2.7566])\n",
      "3 tensor([-1.4403]) tensor([4.6623])\n",
      "2 tensor([-3.5342]) tensor([1.6699])\n",
      "1 tensor([-0.6305]) tensor([4.3558])\n",
      "0 tensor([-3.5340]) tensor([4.3599])\n",
      " \n",
      "[tensor([2.8246]), tensor([0.4757]), tensor([2.7972]), tensor([2.1442]), tensor([2.7566]), tensor([4.6623]), tensor([1.6699]), tensor([4.3558]), tensor([4.3599])]\n",
      " \n",
      "tensor([[4.3599, 4.3558, 1.6699, 4.6623, 2.7566, 2.1442, 2.7972, 0.4757, 2.8246]])\n"
     ]
    }
   ],
   "source": [
    "lastgaelam = 0\n",
    "advantages_reversed = []\n",
    "\n",
    "# iterate backwards from last time step of episode, t = T -> 0 \n",
    "for t in reversed(range(gen_len)):\n",
    "    \n",
    "    # 1. V(s_t+1) for all t except t = T\n",
    "    nextvalues = values_[:, t + 1] if t < gen_len - 1 else 0.0  \n",
    "    \n",
    "    # 2. delta_t =  r_t + gamma*V(s_t+1) - V(s_t) \n",
    "    delta = rewards_[:, t] + ppo_trainer.config.gamma * nextvalues - values_[:, t]\n",
    "    \n",
    "    # 3. A_t = delta_t + gamma*lambda*delta_t+1\n",
    "    lastgaelam = delta + ppo_trainer.config.gamma * ppo_trainer.config.lam * lastgaelam\n",
    "    \n",
    "    advantages_reversed.append(lastgaelam)\n",
    "    \n",
    "    print(t, nextvalues, lastgaelam)\n",
    "    \n",
    "  \n",
    "print(' ')\n",
    "print(advantages_reversed)\n",
    "print(' ')\n",
    "\n",
    "# reverse the reverse to make regular and concatenate\n",
    "advantages = torch.stack(advantages_reversed[::-1]).transpose(0, 1)\n",
    "\n",
    "print(advantages)\n"
   ]
  },
  {
   "cell_type": "code",
   "execution_count": 15,
   "id": "02e7f70f",
   "metadata": {},
   "outputs": [
    {
     "data": {
      "text/plain": [
       "tensor([[0.5143, 0.8218, 1.0394, 1.1281, 1.3163, 0.9797, 1.0857, 1.1119, 1.2464]])"
      ]
     },
     "execution_count": 15,
     "metadata": {},
     "output_type": "execute_result"
    }
   ],
   "source": [
    "returns = advantages + values_\n",
    "returns"
   ]
  },
  {
   "cell_type": "code",
   "execution_count": 16,
   "id": "669a58c7",
   "metadata": {},
   "outputs": [
    {
     "data": {
      "text/plain": [
       "tensor([[ 1.0581,  1.0552, -0.8836,  1.2764, -0.0992, -0.5413, -0.0699, -1.7456,\n",
       "         -0.0501]])"
      ]
     },
     "execution_count": 16,
     "metadata": {},
     "output_type": "execute_result"
    }
   ],
   "source": [
    "# whitening simply subtracts the means and divides by the standard deviation to zero mean the data and \n",
    "# impose a std of 1\n",
    "advantages = whiten(advantages)\n",
    "advantages = advantages.detach()\n",
    "\n",
    "advantages"
   ]
  },
  {
   "cell_type": "code",
   "execution_count": 19,
   "id": "57356878",
   "metadata": {},
   "outputs": [
    {
     "name": "stdout",
     "output_type": "stream",
     "text": [
      "torch.Size([1, 12, 50257])\n"
     ]
    },
    {
     "data": {
      "text/plain": [
       "tensor([[[ -14.9158,  -15.1586,  -18.4025,  ...,  -22.6887,  -20.5004,\n",
       "           -14.6813],\n",
       "         [ -56.8011,  -58.2155,  -65.1559,  ...,  -66.4373,  -65.7569,\n",
       "           -60.1618],\n",
       "         [ -42.7785,  -43.1388,  -47.1090,  ...,  -51.4935,  -52.7388,\n",
       "           -43.6027],\n",
       "         ...,\n",
       "         [ -42.9758,  -43.9284,  -46.4706,  ...,  -50.7341,  -45.7978,\n",
       "           -43.9313],\n",
       "         [ -35.7480,  -36.7189,  -40.9218,  ...,  -45.1291,  -38.4662,\n",
       "           -36.8048],\n",
       "         [-252.0385, -250.1641, -257.2216,  ..., -275.8328, -284.1869,\n",
       "          -251.5657]]], grad_fn=<UnsafeViewBackward0>)"
      ]
     },
     "execution_count": 19,
     "metadata": {},
     "output_type": "execute_result"
    }
   ],
   "source": [
    "# didnt we do this step already within the bacthed forwardf pass? Yes, we did, this is a redundant step\n",
    "input_kwargs = {\"input_ids\": model_input_}\n",
    "logits_, _, vpred_ = ppo_trainer.model(**input_kwargs)\n",
    "print(logits_.shape)\n",
    "logits_"
   ]
  },
  {
   "cell_type": "code",
   "execution_count": 23,
   "id": "9b1b2633",
   "metadata": {},
   "outputs": [
    {
     "name": "stdout",
     "output_type": "stream",
     "text": [
      "torch.Size([1, 9]) torch.Size([1, 9])\n"
     ]
    }
   ],
   "source": [
    "# similar to why the logits and input_ids are one position off from each other\n",
    "# the log probabilities are one position shifted relative to the value preditions\n",
    "# because the value is a function of the actions already decided on\n",
    "# so as explained in the previous section, if the token at position t\n",
    "# was sampled at the logits at postion t - 1, then the\n",
    "\n",
    "logprob_ = logprobs_from_logits(logits_[:, :-1, :], model_input_[:, 1:])\n",
    "logprob_, vpred_ = logprob_[:, -gen_len:], vpred_[:, -gen_len - 1 : -1]\n",
    "\n",
    "print(logprob_.shape, vpred_.shape)"
   ]
  },
  {
   "cell_type": "code",
   "execution_count": null,
   "id": "31a16476",
   "metadata": {},
   "outputs": [],
   "source": []
  }
 ],
 "metadata": {
  "kernelspec": {
   "display_name": "Python 3 (ipykernel)",
   "language": "python",
   "name": "python3"
  },
  "language_info": {
   "codemirror_mode": {
    "name": "ipython",
    "version": 3
   },
   "file_extension": ".py",
   "mimetype": "text/x-python",
   "name": "python",
   "nbconvert_exporter": "python",
   "pygments_lexer": "ipython3",
   "version": "3.10.0"
  }
 },
 "nbformat": 4,
 "nbformat_minor": 5
}
